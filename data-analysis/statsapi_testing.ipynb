{
 "cells": [
  {
   "cell_type": "code",
   "execution_count": null,
   "id": "ecc6985c",
   "metadata": {},
   "outputs": [],
   "source": [
    "import statsapi\n",
    "import espn_scraper as espn\n",
    "import mlbstatsapi\n",
    "sched = statsapi.schedule(date=\"2025-07-24\")\n",
    "for game in sched:\n",
    "    print(\n",
    "        f\"game_id: {game.get('game_id')}, \"\n",
    "        f\"game_datetime: {game.get('game_datetime')}, \"\n",
    "        f\"status: {game.get('status')}, \"\n",
    "        f\"away_score: {game.get('away_score')}, \"\n",
    "        f\"home_score: {game.get('home_score')}, \"\n",
    "        f\"current_inning: {game.get('current_inning')}, \"\n",
    "        f\"inning_state: {game.get('inning_state')}, \"\n",
    "        f\"summary: {game.get('summary')}\"\n",
    "    )\n",
    "game = statsapi.get('game',{'gamePk': 777018})\n",
    "\n",
    "game"
   ]
  },
  {
   "cell_type": "code",
   "execution_count": null,
   "id": "d0462abc",
   "metadata": {},
   "outputs": [],
   "source": [
    "mlb = mlbstatsapi.Mlb()\n",
    "sched = mlb.get_scheduled_games_by_date(date=\"2025-07-24\")\n",
    "sched"
   ]
  },
  {
   "cell_type": "code",
   "execution_count": null,
   "id": "558661a0",
   "metadata": {},
   "outputs": [],
   "source": [
    "game = mlb.get_game(777025)\n",
    "play_by_play = game.livedata.plays\n",
    "play_by_play.allplays"
   ]
  },
  {
   "cell_type": "code",
   "execution_count": 2,
   "id": "4fc01bbc",
   "metadata": {},
   "outputs": [
    {
     "name": "stdout",
     "output_type": "stream",
     "text": [
      "https://site.api.espn.com/apis/site/v2/sports/baseball/mlb/scoreboard?dates=20250415\n",
      "401695153\n",
      "401695158\n",
      "401695160\n",
      "401695159\n",
      "401695155\n",
      "401695156\n",
      "401695157\n",
      "401695154\n",
      "401695162\n",
      "401695164\n",
      "401695165\n",
      "401695163\n",
      "401695161\n",
      "401695166\n",
      "401695167\n"
     ]
    }
   ],
   "source": [
    "date = 20250415\n",
    "games = espn.get_url(f'https://site.api.espn.com/apis/site/v2/sports/baseball/mlb/scoreboard?dates={date}')['events']\n",
    "for game in games:\n",
    "    print(game['id'])"
   ]
  },
  {
   "cell_type": "code",
   "execution_count": null,
   "id": "37c24df2",
   "metadata": {},
   "outputs": [
    {
     "name": "stdout",
     "output_type": "stream",
     "text": [
      "https://www.espn.com/mlb/playbyplay/_/gameId/401695157&_xhr=1\n",
      "app\n",
      "ads\n",
      "analytics\n",
      "routing\n",
      "page\n",
      "request\n",
      "viewport\n",
      "user\n"
     ]
    }
   ],
   "source": [
    "game = espn.get_url(\"https://www.espn.com/mlb/playbyplay/_/gameId/401695157&_xhr=1\")\n",
    "for key in game:\n",
    "    print(key)\n",
    "game['page']"
   ]
  },
  {
   "cell_type": "code",
   "execution_count": 22,
   "id": "78461773",
   "metadata": {},
   "outputs": [
    {
     "name": "stdout",
     "output_type": "stream",
     "text": [
      "atBatTeam\n",
      "awayTeamShortName\n",
      "homeTeamShortName\n",
      "errors\n",
      "hits\n",
      "period\n",
      "runs\n",
      "dsc\n",
      "plays\n"
     ]
    }
   ],
   "source": [
    "for key in game['page']['content']['gamepackage']['pbp'][0]:\n",
    "    print(key)"
   ]
  },
  {
   "cell_type": "code",
   "execution_count": 5,
   "id": "36915b0f",
   "metadata": {},
   "outputs": [
    {
     "name": "stdout",
     "output_type": "stream",
     "text": [
      "{'dsc': 'Garcia grounded out to third.', 'id': '4016951570001990057', 'isAway': True, 'isScoringPlay': False, 'awayScore': 0, 'homeScore': 0, 'defaultOpen': True, 'pitches': [{'count': 1, 'dsc': 'Ball', 'id': '4016951570001020005', 'ptchCoords': {'x': 172, 'y': 197}, 'ptchDsc': 'Four-seam FB', 'rslt': 'ball', 'vlcty': 91, 'evnts': {'onBase': [False, False, False]}}, {'count': 2, 'dsc': 'Strike Swinging', 'id': '4016951570001030037', 'ptchCoords': {'x': 156, 'y': 186}, 'ptchDsc': 'Four-seam FB', 'rslt': 'strike', 'vlcty': 92}, {'count': 3, 'dsc': 'Ball', 'id': '4016951570001040005', 'ptchCoords': {'x': 171, 'y': 199}, 'ptchDsc': 'Four-seam FB', 'rslt': 'ball', 'vlcty': 92}, {'count': 4, 'dsc': 'Foul Ball', 'id': '4016951570001050021', 'ptchCoords': {'x': 157, 'y': 186}, 'ptchDsc': 'Four-seam FB', 'rslt': 'strike', 'vlcty': 93}, {'count': 5, 'dsc': 'Ball', 'id': '4016951570001060005', 'ptchCoords': {'x': 111, 'y': 128}, 'ptchDsc': 'Four-seam FB', 'rslt': 'ball', 'vlcty': 94}, {'count': 6, 'dsc': 'Ground Out', 'id': '4016951570001070024', 'ptchCoords': {'x': 154, 'y': 164}, 'ptchDsc': 'Four-seam FB', 'rslt': 'play', 'vlcty': 91, 'hitCoords': {'x': 104, 'y': 170}, 'evnts': {'onBase': [False, False, False]}}]}\n",
      "{'dsc': 'Witt Jr. grounded out to third.', 'id': '4016951570002990057', 'isAway': True, 'isScoringPlay': False, 'awayScore': 0, 'homeScore': 0, 'defaultOpen': False, 'pitches': [{'count': 1, 'dsc': 'Strike Looking', 'id': '4016951570002020036', 'ptchCoords': {'x': 104, 'y': 169}, 'ptchDsc': 'Curve', 'rslt': 'strike', 'vlcty': 73, 'evnts': {'onBase': [False, False, False]}}, {'count': 2, 'dsc': 'Ground Out', 'id': '4016951570002030024', 'ptchCoords': {'x': 151, 'y': 165}, 'ptchDsc': 'Four-seam FB', 'rslt': 'play', 'vlcty': 94, 'hitCoords': {'x': 99, 'y': 166}, 'evnts': {'onBase': [False, False, False]}}]}\n",
      "{'dsc': 'Pasquantino flied out to left.', 'id': '4016951570003990057', 'isAway': True, 'isScoringPlay': False, 'awayScore': 0, 'homeScore': 0, 'defaultOpen': False, 'pitches': [{'count': 1, 'dsc': 'Ball', 'id': '4016951570003020005', 'ptchCoords': {'x': 115, 'y': 197}, 'ptchDsc': 'Sinker', 'rslt': 'ball', 'vlcty': 92, 'evnts': {'onBase': [False, False, False]}}, {'count': 2, 'dsc': 'Strike Swinging', 'id': '4016951570003030037', 'ptchCoords': {'x': 101, 'y': 196}, 'ptchDsc': 'Sinker', 'rslt': 'strike', 'vlcty': 92}, {'count': 3, 'dsc': 'Fly Out', 'id': '4016951570003040022', 'ptchCoords': {'x': 120, 'y': 161}, 'ptchDsc': 'Four-seam FB', 'rslt': 'play', 'vlcty': 95, 'hitCoords': {'x': 57, 'y': 117}, 'evnts': {'onBase': [False, False, False]}}]}\n"
     ]
    }
   ],
   "source": [
    "for play in game['page']['content']['gamepackage']['pbp'][0]['plays']:\n",
    "    print(play)"
   ]
  },
  {
   "cell_type": "code",
   "execution_count": null,
   "id": "80a7383e",
   "metadata": {},
   "outputs": [],
   "source": [
    "for inning in game['page']['content']['gamepackage']['pbp']:\n",
    "    for pitches in inning['plays']:\n",
    "        #print(pitches['pitches']['dsc'])\n",
    "        if (pitches['pitches'] is not None):\n",
    "            #print(pitches['pitches'])\n",
    "            for pitch in pitches['pitches']:\n",
    "                print(pitch['dsc'])"
   ]
  },
  {
   "cell_type": "code",
   "execution_count": 25,
   "id": "50348c39",
   "metadata": {},
   "outputs": [
    {
     "name": "stdout",
     "output_type": "stream",
     "text": [
      "[{'count': 1, 'dsc': 'Ball', 'id': '4016964490001020005', 'ptchCoords': {'x': 151, 'y': 188}, 'ptchDsc': 'Four-seam FB', 'rslt': 'ball', 'vlcty': 90, 'evnts': {'onBase': [False, False, False]}}, {'count': 2, 'dsc': 'Ground Out', 'id': '4016964490001030024', 'ptchCoords': {'x': 90, 'y': 180}, 'ptchDsc': 'Four-seam FB', 'rslt': 'play', 'vlcty': 89, 'hitCoords': {'x': 158, 'y': 165}, 'evnts': {'onBase': [False, False, False]}}]\n",
      "[{'count': 1, 'dsc': 'Strike Swinging', 'id': '4016964490002020037', 'ptchCoords': {'x': 119, 'y': 147}, 'ptchDsc': 'Four-seam FB', 'rslt': 'strike', 'vlcty': 91, 'evnts': {'onBase': [False, False, False]}}, {'count': 2, 'dsc': 'Single', 'id': '4016964490002030002', 'ptchCoords': {'x': 119, 'y': 182}, 'ptchDsc': 'Changeup', 'rslt': 'play', 'vlcty': 82, 'hitCoords': {'x': 93, 'y': 167}, 'evnts': {'onBase': [True, False, False]}}]\n",
      "[{'count': 1, 'dsc': 'Strike Looking', 'id': '4016964490003020036', 'ptchCoords': {'x': 106, 'y': 160}, 'ptchDsc': 'Four-seam FB', 'rslt': 'strike', 'vlcty': 90, 'evnts': {'onBase': [True, False, False]}}, {'count': 2, 'dsc': 'Foul Ball', 'id': '4016964490003030021', 'ptchCoords': {'x': 112, 'y': 176}, 'ptchDsc': 'Four-seam FB', 'rslt': 'strike', 'vlcty': 91}, {'count': 3, 'dsc': 'Ball', 'id': '4016964490003040005', 'ptchCoords': {'x': 143, 'y': 158}, 'ptchDsc': 'Sinker', 'rslt': 'ball', 'vlcty': 90}, {'count': 4, 'dsc': 'Foul Ball', 'id': '4016964490003050021', 'ptchCoords': {'x': 118, 'y': 177}, 'ptchDsc': 'Sinker', 'rslt': 'foul', 'vlcty': 90}, {'count': 5, 'dsc': 'Foul Ball', 'id': '4016964490003060021', 'ptchCoords': {'x': 126, 'y': 144}, 'ptchDsc': 'Four-seam FB', 'rslt': 'foul', 'vlcty': 92}, {'count': 6, 'dsc': 'Strike Swinging', 'id': '4016964490003070037', 'ptchCoords': {'x': 143, 'y': 200}, 'ptchDsc': 'Sweeper', 'rslt': 'strike', 'vlcty': 78, 'evnts': {'onBase': [True, False, False]}}]\n",
      "[{'count': 1, 'dsc': 'Strike Looking', 'id': '4016964490004020036', 'ptchCoords': {'x': 95, 'y': 192}, 'ptchDsc': 'Sinker', 'rslt': 'strike', 'vlcty': 89, 'evnts': {'onBase': [True, False, False]}}, {'count': 2, 'dsc': 'Ball', 'id': '4016964490004030005', 'ptchCoords': {'x': 53, 'y': 162}, 'ptchDsc': 'Four-seam FB', 'rslt': 'ball', 'vlcty': 91}, {'count': 3, 'dsc': 'Ball', 'id': '4016964490004040005', 'ptchCoords': {'x': 71, 'y': 173}, 'ptchDsc': 'Sinker', 'rslt': 'ball', 'vlcty': 90}, {'count': 4, 'dsc': 'Home Run', 'id': '4016964490004050028', 'ptchCoords': {'x': 108, 'y': 183}, 'ptchDsc': 'Changeup', 'rslt': 'play', 'vlcty': 81, 'hitCoords': {'x': 153, 'y': 35}, 'evnts': {'onBase': [False, False, False]}}]\n",
      "[{'count': 1, 'dsc': 'Foul Ball', 'id': '4016964490005020021', 'ptchCoords': {'x': 135, 'y': 186}, 'ptchDsc': 'Four-seam FB', 'rslt': 'strike', 'vlcty': 91, 'evnts': {'onBase': [False, False, False]}}, {'count': 2, 'dsc': 'Single', 'id': '4016964490005030002', 'ptchCoords': {'x': 113, 'y': 191}, 'ptchDsc': 'Sweeper', 'rslt': 'play', 'vlcty': 76, 'hitCoords': {'x': 54, 'y': 124}, 'evnts': {'onBase': [True, False, False]}}]\n",
      "[{'count': 1, 'dsc': 'Double', 'id': '4016964490006020003', 'ptchCoords': {'x': 89, 'y': 168}, 'ptchDsc': 'Four-seam FB', 'rslt': 'play', 'vlcty': 90, 'hitCoords': {'x': 117, 'y': 60}, 'evnts': {'onBase': [False, True, False]}}]\n",
      "[{'count': 1, 'dsc': 'Strike Looking', 'id': '4016964490007020036', 'ptchDsc': 'Four-seam FB', 'rslt': 'strike', 'vlcty': 91, 'evnts': {'onBase': [False, True, False]}}, {'count': 2, 'dsc': 'Hit By Pitch', 'id': '4016964490007030026', 'ptchCoords': {'x': 121, 'y': 147}, 'ptchDsc': 'Cutter', 'rslt': 'play', 'vlcty': 86, 'evnts': {'onBase': [True, True, False]}}]\n",
      "[{'count': 1, 'dsc': 'Strike Looking', 'id': '4016964490008020036', 'ptchCoords': {'x': 132, 'y': 128}, 'ptchDsc': 'Four-seam FB', 'rslt': 'strike', 'vlcty': 91, 'evnts': {'onBase': [True, True, False]}}, {'count': 2, 'dsc': 'Line Out', 'id': '4016964490008030032', 'ptchCoords': {'x': 102, 'y': 160}, 'ptchDsc': 'Changeup', 'rslt': 'play', 'vlcty': 82, 'hitCoords': {'x': 128, 'y': 83}, 'evnts': {'onBase': [True, True, False]}}]\n"
     ]
    }
   ],
   "source": [
    "for play in game['page']['content']['gamepackage']['pbp'][0]['plays']:\n",
    "    print(play['pitches'])"
   ]
  }
 ],
 "metadata": {
  "kernelspec": {
   "display_name": ".venv",
   "language": "python",
   "name": "python3"
  },
  "language_info": {
   "codemirror_mode": {
    "name": "ipython",
    "version": 3
   },
   "file_extension": ".py",
   "mimetype": "text/x-python",
   "name": "python",
   "nbconvert_exporter": "python",
   "pygments_lexer": "ipython3",
   "version": "3.9.6"
  }
 },
 "nbformat": 4,
 "nbformat_minor": 5
}
