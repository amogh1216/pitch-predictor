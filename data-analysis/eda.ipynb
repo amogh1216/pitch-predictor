{
 "cells": [
  {
   "cell_type": "code",
   "execution_count": 1,
   "id": "b0643f20",
   "metadata": {},
   "outputs": [
    {
     "name": "stderr",
     "output_type": "stream",
     "text": [
      "/Users/planteatre/personal-projects/pitch-predictor/.venv/lib/python3.9/site-packages/urllib3/__init__.py:35: NotOpenSSLWarning: urllib3 v2 only supports OpenSSL 1.1.1+, currently the 'ssl' module is compiled with 'LibreSSL 2.8.3'. See: https://github.com/urllib3/urllib3/issues/3020\n",
      "  warnings.warn(\n"
     ]
    }
   ],
   "source": [
    "import pandas as pd\n",
    "import numpy as np\n",
    "from sklearn.model_selection import train_test_split\n",
    "from sklearn.linear_model import LinearRegression\n",
    "import matplotlib.pyplot as plt\n",
    "import pybaseball\n",
    "import seaborn as sns"
   ]
  },
  {
   "cell_type": "code",
   "execution_count": 3,
   "id": "b62d4b14",
   "metadata": {},
   "outputs": [],
   "source": [
    "data = pd.read_csv('savant_data_2024.csv')\n",
    "data = data.iloc[::-1].copy().reset_index(drop=True)"
   ]
  },
  {
   "cell_type": "code",
   "execution_count": 4,
   "id": "4b2f8ed8",
   "metadata": {},
   "outputs": [
    {
     "data": {
      "text/html": [
       "<div>\n",
       "<style scoped>\n",
       "    .dataframe tbody tr th:only-of-type {\n",
       "        vertical-align: middle;\n",
       "    }\n",
       "\n",
       "    .dataframe tbody tr th {\n",
       "        vertical-align: top;\n",
       "    }\n",
       "\n",
       "    .dataframe thead th {\n",
       "        text-align: right;\n",
       "    }\n",
       "</style>\n",
       "<table border=\"1\" class=\"dataframe\">\n",
       "  <thead>\n",
       "    <tr style=\"text-align: right;\">\n",
       "      <th></th>\n",
       "      <th>game_date</th>\n",
       "      <th>player_name</th>\n",
       "      <th>pitch_type</th>\n",
       "      <th>inning</th>\n",
       "      <th>balls</th>\n",
       "      <th>strikes</th>\n",
       "      <th>home_team</th>\n",
       "      <th>away_team</th>\n",
       "    </tr>\n",
       "  </thead>\n",
       "  <tbody>\n",
       "    <tr>\n",
       "      <th>0</th>\n",
       "      <td>2024-03-20</td>\n",
       "      <td>Darvish, Yu</td>\n",
       "      <td>FF</td>\n",
       "      <td>1</td>\n",
       "      <td>0</td>\n",
       "      <td>0</td>\n",
       "      <td>SD</td>\n",
       "      <td>LAD</td>\n",
       "    </tr>\n",
       "    <tr>\n",
       "      <th>1</th>\n",
       "      <td>2024-03-20</td>\n",
       "      <td>Darvish, Yu</td>\n",
       "      <td>FF</td>\n",
       "      <td>1</td>\n",
       "      <td>1</td>\n",
       "      <td>0</td>\n",
       "      <td>SD</td>\n",
       "      <td>LAD</td>\n",
       "    </tr>\n",
       "    <tr>\n",
       "      <th>2</th>\n",
       "      <td>2024-03-20</td>\n",
       "      <td>Darvish, Yu</td>\n",
       "      <td>SI</td>\n",
       "      <td>1</td>\n",
       "      <td>1</td>\n",
       "      <td>1</td>\n",
       "      <td>SD</td>\n",
       "      <td>LAD</td>\n",
       "    </tr>\n",
       "    <tr>\n",
       "      <th>3</th>\n",
       "      <td>2024-03-20</td>\n",
       "      <td>Darvish, Yu</td>\n",
       "      <td>SI</td>\n",
       "      <td>1</td>\n",
       "      <td>2</td>\n",
       "      <td>1</td>\n",
       "      <td>SD</td>\n",
       "      <td>LAD</td>\n",
       "    </tr>\n",
       "    <tr>\n",
       "      <th>4</th>\n",
       "      <td>2024-03-20</td>\n",
       "      <td>Darvish, Yu</td>\n",
       "      <td>FF</td>\n",
       "      <td>1</td>\n",
       "      <td>0</td>\n",
       "      <td>0</td>\n",
       "      <td>SD</td>\n",
       "      <td>LAD</td>\n",
       "    </tr>\n",
       "    <tr>\n",
       "      <th>...</th>\n",
       "      <td>...</td>\n",
       "      <td>...</td>\n",
       "      <td>...</td>\n",
       "      <td>...</td>\n",
       "      <td>...</td>\n",
       "      <td>...</td>\n",
       "      <td>...</td>\n",
       "      <td>...</td>\n",
       "    </tr>\n",
       "    <tr>\n",
       "      <th>730053</th>\n",
       "      <td>2024-09-30</td>\n",
       "      <td>Díaz, Edwin</td>\n",
       "      <td>SL</td>\n",
       "      <td>9</td>\n",
       "      <td>0</td>\n",
       "      <td>0</td>\n",
       "      <td>ATL</td>\n",
       "      <td>NYM</td>\n",
       "    </tr>\n",
       "    <tr>\n",
       "      <th>730054</th>\n",
       "      <td>2024-09-30</td>\n",
       "      <td>Díaz, Edwin</td>\n",
       "      <td>SL</td>\n",
       "      <td>9</td>\n",
       "      <td>0</td>\n",
       "      <td>1</td>\n",
       "      <td>ATL</td>\n",
       "      <td>NYM</td>\n",
       "    </tr>\n",
       "    <tr>\n",
       "      <th>730055</th>\n",
       "      <td>2024-09-30</td>\n",
       "      <td>Díaz, Edwin</td>\n",
       "      <td>SL</td>\n",
       "      <td>9</td>\n",
       "      <td>1</td>\n",
       "      <td>1</td>\n",
       "      <td>ATL</td>\n",
       "      <td>NYM</td>\n",
       "    </tr>\n",
       "    <tr>\n",
       "      <th>730056</th>\n",
       "      <td>2024-09-30</td>\n",
       "      <td>Díaz, Edwin</td>\n",
       "      <td>SL</td>\n",
       "      <td>9</td>\n",
       "      <td>1</td>\n",
       "      <td>2</td>\n",
       "      <td>ATL</td>\n",
       "      <td>NYM</td>\n",
       "    </tr>\n",
       "    <tr>\n",
       "      <th>730057</th>\n",
       "      <td>2024-09-30</td>\n",
       "      <td>Díaz, Edwin</td>\n",
       "      <td>FF</td>\n",
       "      <td>9</td>\n",
       "      <td>2</td>\n",
       "      <td>2</td>\n",
       "      <td>ATL</td>\n",
       "      <td>NYM</td>\n",
       "    </tr>\n",
       "  </tbody>\n",
       "</table>\n",
       "<p>730058 rows × 8 columns</p>\n",
       "</div>"
      ],
      "text/plain": [
       "         game_date  player_name pitch_type  inning  balls  strikes home_team  \\\n",
       "0       2024-03-20  Darvish, Yu         FF       1      0        0        SD   \n",
       "1       2024-03-20  Darvish, Yu         FF       1      1        0        SD   \n",
       "2       2024-03-20  Darvish, Yu         SI       1      1        1        SD   \n",
       "3       2024-03-20  Darvish, Yu         SI       1      2        1        SD   \n",
       "4       2024-03-20  Darvish, Yu         FF       1      0        0        SD   \n",
       "...            ...          ...        ...     ...    ...      ...       ...   \n",
       "730053  2024-09-30  Díaz, Edwin         SL       9      0        0       ATL   \n",
       "730054  2024-09-30  Díaz, Edwin         SL       9      0        1       ATL   \n",
       "730055  2024-09-30  Díaz, Edwin         SL       9      1        1       ATL   \n",
       "730056  2024-09-30  Díaz, Edwin         SL       9      1        2       ATL   \n",
       "730057  2024-09-30  Díaz, Edwin         FF       9      2        2       ATL   \n",
       "\n",
       "       away_team  \n",
       "0            LAD  \n",
       "1            LAD  \n",
       "2            LAD  \n",
       "3            LAD  \n",
       "4            LAD  \n",
       "...          ...  \n",
       "730053       NYM  \n",
       "730054       NYM  \n",
       "730055       NYM  \n",
       "730056       NYM  \n",
       "730057       NYM  \n",
       "\n",
       "[730058 rows x 8 columns]"
      ]
     },
     "execution_count": 4,
     "metadata": {},
     "output_type": "execute_result"
    }
   ],
   "source": [
    "data[['game_date', 'player_name', 'pitch_type', 'inning', 'balls', 'strikes', 'home_team', 'away_team']]"
   ]
  },
  {
   "cell_type": "code",
   "execution_count": 6,
   "id": "efd16183",
   "metadata": {},
   "outputs": [
    {
     "name": "stdout",
     "output_type": "stream",
     "text": [
      "pitch_type: object\n",
      "game_date: object\n",
      "player_name: object\n",
      "events: object\n",
      "description: object\n",
      "des: object\n",
      "game_type: object\n",
      "stand: object\n",
      "p_throws: object\n",
      "home_team: object\n",
      "away_team: object\n",
      "type: object\n",
      "bb_type: object\n",
      "inning_topbot: object\n",
      "pitch_name: object\n",
      "if_fielding_alignment: object\n",
      "of_fielding_alignment: object\n"
     ]
    }
   ],
   "source": [
    "non_numeric_cols = data.select_dtypes(exclude=['number']).columns\n",
    "for col in non_numeric_cols:\n",
    "    print(f\"{col}: {data[col].dtype}\")"
   ]
  },
  {
   "cell_type": "code",
   "execution_count": 7,
   "id": "df133fc1",
   "metadata": {
    "vscode": {
     "languageId": "javascript"
    }
   },
   "outputs": [],
   "source": [
    "filtered_data = data.drop(columns=['events', 'des', 'if_fielding_alignment', 'of_fielding_alignment', 'umpire', 'sv_id',\n",
    "    'spin_rate_deprecated', 'break_angle_deprecated', 'break_length_deprecated', 'tfs_deprecated', 'tfs_zulu_deprecated',\n",
    "    'fielder_2', 'fielder_3', 'fielder_4', 'fielder_5', 'fielder_6', 'fielder_7', 'fielder_8', 'fielder_9',\n",
    "    'estimated_ba_using_speedangle', 'estimated_woba_using_speedangle', 'age_pit_legacy', 'age_bat_legacy',\n",
    "    'api_break_z_with_gravity', 'api_break_x_arm', 'api_break_x_batter_in', 'arm_angle', 'attack_angle', 'attack_direction', \n",
    "    'swing_path_tilt', 'intercept_ball_minus_batter_pos_x_inches', 'intercept_ball_minus_batter_pos_y_inches',\n",
    "    'estimated_slg_using_speedangle', 'delta_pitcher_run_exp', 'hyper_speed', 'post_fld_score', 'game_type', \n",
    "    \n",
    "    # following have the potential to be included to improve accuracy but requires further feature engineering\n",
    "    \n",
    "    'release_pos_x', 'release_pos_z', 'spin_dir', 'pfx_x', 'pfx_z', 'plate_x', 'plate_z', 'hc_x', 'hc_y', \n",
    "    'vx0', 'vy0', 'vz0', 'ax', 'ay', 'az', 'effective_speed', 'release_spin_rate', 'release_extension',\n",
    "    'babip_value', 'iso_value', 'launch_speed_angle', 'post_away_score', 'post_home_score', 'post_bat_score',\n",
    "    'delta_home_win_exp', 'delta_run_exp', 'bat_speed', 'swing_length', 'home_score_diff', 'bat_score_diff', 'home_win_exp', \n",
    "    'bat_win_exp', 'sz_top', 'sz_bot', 'woba_value', 'woba_denom', 'age_pit', 'age_bat', 'hit_distance_sc', 'spin_axis',\n",
    "\n",
    "    'game_year'\n",
    "    \n",
    "])"
   ]
  },
  {
   "cell_type": "code",
   "execution_count": 9,
   "id": "c40b778a",
   "metadata": {},
   "outputs": [],
   "source": [
    "data_more_filtered = filtered_data.copy()#.drop(columns=['pitch_name', 'home_team', 'away_team', 'player_name', 'game_date'])"
   ]
  },
  {
   "cell_type": "code",
   "execution_count": 10,
   "id": "29320cf4",
   "metadata": {},
   "outputs": [
    {
     "name": "stdout",
     "output_type": "stream",
     "text": [
      "Index(['pitch_type', 'game_date', 'player_name', 'description', 'stand',\n",
      "       'p_throws', 'home_team', 'away_team', 'type', 'bb_type',\n",
      "       'inning_topbot', 'pitch_name'],\n",
      "      dtype='object')\n"
     ]
    }
   ],
   "source": [
    "print(data_more_filtered.select_dtypes(exclude=['number']).columns)"
   ]
  },
  {
   "cell_type": "markdown",
   "id": "3c45c6fa",
   "metadata": {},
   "source": [
    "### Feature Engineering -- Previous Pitch Data"
   ]
  },
  {
   "cell_type": "markdown",
   "id": "60d4c8d5",
   "metadata": {},
   "source": [
    "treat zone, hit_location, on_Xb as categorical data"
   ]
  },
  {
   "cell_type": "code",
   "execution_count": 11,
   "id": "9d7125cc",
   "metadata": {},
   "outputs": [],
   "source": [
    "# idea from https://seanjhannon.medium.com/baseball-pitch-prediction-with-deep-learning-df68094fcc65\n",
    "data_more_filtered.loc[:,'plate_app_id'] =  data_more_filtered['game_pk'].astype(str) + data_more_filtered['batter'].astype(str) + data_more_filtered['at_bat_number'].astype(str)\n"
   ]
  },
  {
   "cell_type": "code",
   "execution_count": 12,
   "id": "370d9575",
   "metadata": {},
   "outputs": [
    {
     "data": {
      "text/html": [
       "<div>\n",
       "<style scoped>\n",
       "    .dataframe tbody tr th:only-of-type {\n",
       "        vertical-align: middle;\n",
       "    }\n",
       "\n",
       "    .dataframe tbody tr th {\n",
       "        vertical-align: top;\n",
       "    }\n",
       "\n",
       "    .dataframe thead th {\n",
       "        text-align: right;\n",
       "    }\n",
       "</style>\n",
       "<table border=\"1\" class=\"dataframe\">\n",
       "  <thead>\n",
       "    <tr style=\"text-align: right;\">\n",
       "      <th></th>\n",
       "      <th>plate_app_id</th>\n",
       "      <th>on_3b</th>\n",
       "      <th>on_2b</th>\n",
       "      <th>on_1b</th>\n",
       "    </tr>\n",
       "  </thead>\n",
       "  <tbody>\n",
       "    <tr>\n",
       "      <th>0</th>\n",
       "      <td>7454446051411</td>\n",
       "      <td>0</td>\n",
       "      <td>0</td>\n",
       "      <td>0</td>\n",
       "    </tr>\n",
       "    <tr>\n",
       "      <th>1</th>\n",
       "      <td>7454446051411</td>\n",
       "      <td>0</td>\n",
       "      <td>0</td>\n",
       "      <td>0</td>\n",
       "    </tr>\n",
       "    <tr>\n",
       "      <th>2</th>\n",
       "      <td>7454446051411</td>\n",
       "      <td>0</td>\n",
       "      <td>0</td>\n",
       "      <td>0</td>\n",
       "    </tr>\n",
       "    <tr>\n",
       "      <th>3</th>\n",
       "      <td>7454446051411</td>\n",
       "      <td>0</td>\n",
       "      <td>0</td>\n",
       "      <td>0</td>\n",
       "    </tr>\n",
       "    <tr>\n",
       "      <th>4</th>\n",
       "      <td>7454446602712</td>\n",
       "      <td>0</td>\n",
       "      <td>0</td>\n",
       "      <td>1</td>\n",
       "    </tr>\n",
       "    <tr>\n",
       "      <th>...</th>\n",
       "      <td>...</td>\n",
       "      <td>...</td>\n",
       "      <td>...</td>\n",
       "      <td>...</td>\n",
       "    </tr>\n",
       "    <tr>\n",
       "      <th>730053</th>\n",
       "      <td>74713951859582</td>\n",
       "      <td>0</td>\n",
       "      <td>1</td>\n",
       "      <td>0</td>\n",
       "    </tr>\n",
       "    <tr>\n",
       "      <th>730054</th>\n",
       "      <td>74713951859582</td>\n",
       "      <td>0</td>\n",
       "      <td>1</td>\n",
       "      <td>0</td>\n",
       "    </tr>\n",
       "    <tr>\n",
       "      <th>730055</th>\n",
       "      <td>74713951859582</td>\n",
       "      <td>0</td>\n",
       "      <td>1</td>\n",
       "      <td>0</td>\n",
       "    </tr>\n",
       "    <tr>\n",
       "      <th>730056</th>\n",
       "      <td>74713951859582</td>\n",
       "      <td>0</td>\n",
       "      <td>1</td>\n",
       "      <td>0</td>\n",
       "    </tr>\n",
       "    <tr>\n",
       "      <th>730057</th>\n",
       "      <td>74713951859582</td>\n",
       "      <td>0</td>\n",
       "      <td>1</td>\n",
       "      <td>0</td>\n",
       "    </tr>\n",
       "  </tbody>\n",
       "</table>\n",
       "<p>730058 rows × 4 columns</p>\n",
       "</div>"
      ],
      "text/plain": [
       "          plate_app_id  on_3b  on_2b  on_1b\n",
       "0        7454446051411      0      0      0\n",
       "1        7454446051411      0      0      0\n",
       "2        7454446051411      0      0      0\n",
       "3        7454446051411      0      0      0\n",
       "4        7454446602712      0      0      1\n",
       "...                ...    ...    ...    ...\n",
       "730053  74713951859582      0      1      0\n",
       "730054  74713951859582      0      1      0\n",
       "730055  74713951859582      0      1      0\n",
       "730056  74713951859582      0      1      0\n",
       "730057  74713951859582      0      1      0\n",
       "\n",
       "[730058 rows x 4 columns]"
      ]
     },
     "execution_count": 12,
     "metadata": {},
     "output_type": "execute_result"
    }
   ],
   "source": [
    "# modifies data to boolean values for on_3b, on_2b, on_1b\n",
    "for base_col in ['on_3b', 'on_2b', 'on_1b']:\n",
    "    data_more_filtered[base_col] = data_more_filtered[base_col].apply(\n",
    "        lambda x: 0 if (isinstance(x, (int, float)) and not pd.isnull(x) and x == 0)\n",
    "        else (1 if isinstance(x, (int, float)) and not pd.isnull(x) else 0)\n",
    "    )\n",
    "\n",
    "data_more_filtered[['plate_app_id', 'on_3b', 'on_2b', 'on_1b']]"
   ]
  },
  {
   "cell_type": "code",
   "execution_count": 13,
   "id": "16c113b7",
   "metadata": {},
   "outputs": [
    {
     "name": "stdout",
     "output_type": "stream",
     "text": [
      "Number of plate_app_id where 'stand' varies: 6\n",
      "Number of plate_app_id where 'p_throws' varies: 31\n",
      "Example plate_app_id(s) where 'stand' varies:\n",
      "['74479568308323', '74507867076430', '74570760807034', '74657259387156', '74783466613425']\n",
      "Example plate_app_id(s) where 'p_throws' varies:\n",
      "['74479568308323', '74489267639155', '7450075437604', '74502167127742', '74505168299875']\n"
     ]
    }
   ],
   "source": [
    "# Check if 'stand' or 'p_throws' can change within the same plate_app_id\n",
    "stand_varies_mask = data_more_filtered.groupby('plate_app_id')['stand'].nunique() > 1\n",
    "p_throws_varies_mask = data_more_filtered.groupby('plate_app_id')['p_throws'].nunique() > 1\n",
    "\n",
    "stand_varies_count = stand_varies_mask.sum()\n",
    "p_throws_varies_count = p_throws_varies_mask.sum()\n",
    "\n",
    "print(f\"Number of plate_app_id where 'stand' varies: {stand_varies_count}\")\n",
    "print(f\"Number of plate_app_id where 'p_throws' varies: {p_throws_varies_count}\")\n",
    "\n",
    "# Optionally, show some example plate_app_id values if they do vary\n",
    "if stand_varies_count > 0:\n",
    "    print(\"Example plate_app_id(s) where 'stand' varies:\")\n",
    "    print(stand_varies_mask[stand_varies_mask].index.tolist()[:5])\n",
    "if p_throws_varies_count > 0:\n",
    "    print(\"Example plate_app_id(s) where 'p_throws' varies:\")\n",
    "    print(p_throws_varies_mask[p_throws_varies_mask].index.tolist()[:5])\n",
    "\n",
    "# varies too little to be useful as pre-pitch data for the following pitch\n"
   ]
  },
  {
   "cell_type": "code",
   "execution_count": 14,
   "id": "f6ad5155",
   "metadata": {},
   "outputs": [
    {
     "name": "stdout",
     "output_type": "stream",
     "text": [
      "Number of times both away_score and home_score increased: 0\n"
     ]
    }
   ],
   "source": [
    "# Calculate the difference in away_score and home_score within each plate_app_id\n",
    "away_score_diff = data_more_filtered.groupby('plate_app_id')['away_score'].diff().fillna(0)\n",
    "home_score_diff = data_more_filtered.groupby('plate_app_id')['home_score'].diff().fillna(0)\n",
    "\n",
    "# Count the number of times both away_score_diff and home_score_diff are greater than 0 at the same time\n",
    "both_scores_increased = ((away_score_diff > 0) & (home_score_diff > 0)).sum()\n",
    "\n",
    "print(f\"Number of times both away_score and home_score increased: {both_scores_increased}\")\n",
    "\n",
    "# Create a new column 'prev_runs_scored' that is simply the sum of away_score_diff and home_score_diff\n",
    "# since there is no data weirdness where both away and home score increase, we can add the two series\n",
    "data_more_filtered['prev_runs_scored'] = away_score_diff + home_score_diff\n",
    "\n",
    "\n"
   ]
  },
  {
   "cell_type": "code",
   "execution_count": 16,
   "id": "3dc09d8b",
   "metadata": {},
   "outputs": [],
   "source": [
    "# data to shift from previous pitch(es) in the same plate appearance\n",
    "# i.e. not known pre-pitch\n",
    "memory_features = ['pitch_type', 'description', 'zone', 'release_speed', 'type', 'hit_location', 'bb_type',\n",
    "        'launch_speed', 'balls', 'strikes', 'launch_angle', 'release_pos_y', ]\n",
    "\n",
    "# known pre-pitch\n",
    "context_features = ['on_3b', 'on_2b', 'on_1b', 'outs_when_up', 'inning', 'inning_topbot', 'at_bat_number', 'pitch_number',\n",
    "                    'home_score', 'away_score', 'bat_score', 'fld_score', 'n_thruorder_pitcher', 'n_priorpa_thisgame_player_at_bat', \n",
    "                    'pitcher_days_since_prev_game', 'batter_days_since_prev_game', 'pitcher_days_until_next_game', \n",
    "                    'batter_days_until_next_game', 'prev_runs_scored']"
   ]
  },
  {
   "cell_type": "code",
   "execution_count": 17,
   "id": "20c1aa0e",
   "metadata": {},
   "outputs": [
    {
     "data": {
      "text/plain": [
       "n_priorpa_thisgame_player_at_bat\n",
       "0    202067\n",
       "1    179495\n",
       "2    166912\n",
       "3    139261\n",
       "4     39596\n",
       "5      2653\n",
       "6        74\n",
       "Name: count, dtype: int64"
      ]
     },
     "execution_count": 17,
     "metadata": {},
     "output_type": "execute_result"
    }
   ],
   "source": [
    "data_more_filtered['n_priorpa_thisgame_player_at_bat'].value_counts()"
   ]
  },
  {
   "cell_type": "markdown",
   "id": "3a4dffae",
   "metadata": {},
   "source": [
    "### Encoding Categorical Variables"
   ]
  },
  {
   "cell_type": "code",
   "execution_count": 18,
   "id": "744cf7c7",
   "metadata": {},
   "outputs": [
    {
     "name": "stdout",
     "output_type": "stream",
     "text": [
      "pitch_type: 18 unique values\n",
      "game_date: 190 unique values\n",
      "player_name: 1082 unique values\n",
      "description: 13 unique values\n",
      "stand: 2 unique values\n",
      "p_throws: 2 unique values\n",
      "home_team: 30 unique values\n",
      "away_team: 30 unique values\n",
      "type: 3 unique values\n",
      "bb_type: 5 unique values\n",
      "inning_topbot: 2 unique values\n",
      "pitch_name: 18 unique values\n",
      "plate_app_id: 189151 unique values\n"
     ]
    }
   ],
   "source": [
    "for col in data_more_filtered.select_dtypes(exclude=['number']).columns:\n",
    "    print(f\"{col}: {len(data_more_filtered[col].unique())} unique values\")"
   ]
  },
  {
   "cell_type": "code",
   "execution_count": 19,
   "id": "5afcb29d",
   "metadata": {},
   "outputs": [
    {
     "data": {
      "text/plain": [
       "description\n",
       "ball                       242247\n",
       "foul                       131539\n",
       "hit_into_play              128483\n",
       "called_strike              119469\n",
       "swinging_strike             77876\n",
       "blocked_ball                15265\n",
       "foul_tip                     7508\n",
       "swinging_strike_blocked      4036\n",
       "hit_by_pitch                 2103\n",
       "foul_bunt                    1255\n",
       "missed_bunt                   206\n",
       "pitchout                       55\n",
       "bunt_foul_tip                  16\n",
       "Name: count, dtype: int64"
      ]
     },
     "execution_count": 19,
     "metadata": {},
     "output_type": "execute_result"
    }
   ],
   "source": [
    "data_more_filtered['description'].value_counts()"
   ]
  },
  {
   "cell_type": "code",
   "execution_count": 20,
   "id": "f51ec9eb",
   "metadata": {},
   "outputs": [],
   "source": [
    "data_more_filtered.loc[\n",
    "    data_more_filtered['description'].isin(['missed_bunt', 'bunt_foul_tip']),\n",
    "    'description'\n",
    "] = 'foul_bunt'"
   ]
  },
  {
   "cell_type": "code",
   "execution_count": null,
   "id": "b7b30be7",
   "metadata": {},
   "outputs": [],
   "source": [
    "from sklearn.preprocessing import OneHotEncoder\n",
    "\n",
    "# Only encode the specified categorical columns, zone and hit_location are numbers but categorical\n",
    "cols_to_encode = ['description', 'stand', 'p_throws', 'type', 'bb_type', 'inning_topbot', 'zone', 'hit_location']\n",
    "\n",
    "encoder = OneHotEncoder(sparse_output=False, handle_unknown='ignore', drop='if_binary')\n",
    "encoded = encoder.fit_transform(data_more_filtered[cols_to_encode])\n",
    "\n",
    "encoded_df = pd.DataFrame(encoded, columns=encoder.get_feature_names_out(cols_to_encode), index=data_more_filtered.index)\n",
    "filtered_data_encoded = pd.concat([data_more_filtered.drop(columns=cols_to_encode), encoded_df], axis=1)"
   ]
  },
  {
   "cell_type": "code",
   "execution_count": 32,
   "id": "867245e6",
   "metadata": {},
   "outputs": [
    {
     "data": {
      "text/html": [
       "<div>\n",
       "<style scoped>\n",
       "    .dataframe tbody tr th:only-of-type {\n",
       "        vertical-align: middle;\n",
       "    }\n",
       "\n",
       "    .dataframe tbody tr th {\n",
       "        vertical-align: top;\n",
       "    }\n",
       "\n",
       "    .dataframe thead th {\n",
       "        text-align: right;\n",
       "    }\n",
       "</style>\n",
       "<table border=\"1\" class=\"dataframe\">\n",
       "  <thead>\n",
       "    <tr style=\"text-align: right;\">\n",
       "      <th></th>\n",
       "      <th>pitch_type</th>\n",
       "      <th>game_date</th>\n",
       "      <th>release_speed</th>\n",
       "      <th>player_name</th>\n",
       "      <th>batter</th>\n",
       "      <th>pitcher</th>\n",
       "      <th>home_team</th>\n",
       "      <th>away_team</th>\n",
       "      <th>balls</th>\n",
       "      <th>strikes</th>\n",
       "      <th>...</th>\n",
       "      <th>hit_location_1.0</th>\n",
       "      <th>hit_location_2.0</th>\n",
       "      <th>hit_location_3.0</th>\n",
       "      <th>hit_location_4.0</th>\n",
       "      <th>hit_location_5.0</th>\n",
       "      <th>hit_location_6.0</th>\n",
       "      <th>hit_location_7.0</th>\n",
       "      <th>hit_location_8.0</th>\n",
       "      <th>hit_location_9.0</th>\n",
       "      <th>hit_location_nan</th>\n",
       "    </tr>\n",
       "  </thead>\n",
       "  <tbody>\n",
       "    <tr>\n",
       "      <th>0</th>\n",
       "      <td>FF</td>\n",
       "      <td>2024-03-20</td>\n",
       "      <td>94.5</td>\n",
       "      <td>Darvish, Yu</td>\n",
       "      <td>605141</td>\n",
       "      <td>506433</td>\n",
       "      <td>SD</td>\n",
       "      <td>LAD</td>\n",
       "      <td>0</td>\n",
       "      <td>0</td>\n",
       "      <td>...</td>\n",
       "      <td>0.0</td>\n",
       "      <td>0.0</td>\n",
       "      <td>0.0</td>\n",
       "      <td>0.0</td>\n",
       "      <td>0.0</td>\n",
       "      <td>0.0</td>\n",
       "      <td>0.0</td>\n",
       "      <td>0.0</td>\n",
       "      <td>0.0</td>\n",
       "      <td>1.0</td>\n",
       "    </tr>\n",
       "    <tr>\n",
       "      <th>1</th>\n",
       "      <td>FF</td>\n",
       "      <td>2024-03-20</td>\n",
       "      <td>92.6</td>\n",
       "      <td>Darvish, Yu</td>\n",
       "      <td>605141</td>\n",
       "      <td>506433</td>\n",
       "      <td>SD</td>\n",
       "      <td>LAD</td>\n",
       "      <td>1</td>\n",
       "      <td>0</td>\n",
       "      <td>...</td>\n",
       "      <td>0.0</td>\n",
       "      <td>0.0</td>\n",
       "      <td>0.0</td>\n",
       "      <td>0.0</td>\n",
       "      <td>0.0</td>\n",
       "      <td>0.0</td>\n",
       "      <td>0.0</td>\n",
       "      <td>0.0</td>\n",
       "      <td>0.0</td>\n",
       "      <td>1.0</td>\n",
       "    </tr>\n",
       "    <tr>\n",
       "      <th>2</th>\n",
       "      <td>SI</td>\n",
       "      <td>2024-03-20</td>\n",
       "      <td>93.4</td>\n",
       "      <td>Darvish, Yu</td>\n",
       "      <td>605141</td>\n",
       "      <td>506433</td>\n",
       "      <td>SD</td>\n",
       "      <td>LAD</td>\n",
       "      <td>1</td>\n",
       "      <td>1</td>\n",
       "      <td>...</td>\n",
       "      <td>0.0</td>\n",
       "      <td>0.0</td>\n",
       "      <td>0.0</td>\n",
       "      <td>0.0</td>\n",
       "      <td>0.0</td>\n",
       "      <td>0.0</td>\n",
       "      <td>0.0</td>\n",
       "      <td>0.0</td>\n",
       "      <td>0.0</td>\n",
       "      <td>1.0</td>\n",
       "    </tr>\n",
       "    <tr>\n",
       "      <th>3</th>\n",
       "      <td>SI</td>\n",
       "      <td>2024-03-20</td>\n",
       "      <td>93.9</td>\n",
       "      <td>Darvish, Yu</td>\n",
       "      <td>605141</td>\n",
       "      <td>506433</td>\n",
       "      <td>SD</td>\n",
       "      <td>LAD</td>\n",
       "      <td>2</td>\n",
       "      <td>1</td>\n",
       "      <td>...</td>\n",
       "      <td>0.0</td>\n",
       "      <td>0.0</td>\n",
       "      <td>0.0</td>\n",
       "      <td>0.0</td>\n",
       "      <td>0.0</td>\n",
       "      <td>0.0</td>\n",
       "      <td>0.0</td>\n",
       "      <td>0.0</td>\n",
       "      <td>0.0</td>\n",
       "      <td>1.0</td>\n",
       "    </tr>\n",
       "    <tr>\n",
       "      <th>4</th>\n",
       "      <td>FF</td>\n",
       "      <td>2024-03-20</td>\n",
       "      <td>95.7</td>\n",
       "      <td>Darvish, Yu</td>\n",
       "      <td>660271</td>\n",
       "      <td>506433</td>\n",
       "      <td>SD</td>\n",
       "      <td>LAD</td>\n",
       "      <td>0</td>\n",
       "      <td>0</td>\n",
       "      <td>...</td>\n",
       "      <td>0.0</td>\n",
       "      <td>0.0</td>\n",
       "      <td>0.0</td>\n",
       "      <td>0.0</td>\n",
       "      <td>0.0</td>\n",
       "      <td>0.0</td>\n",
       "      <td>0.0</td>\n",
       "      <td>0.0</td>\n",
       "      <td>0.0</td>\n",
       "      <td>1.0</td>\n",
       "    </tr>\n",
       "    <tr>\n",
       "      <th>...</th>\n",
       "      <td>...</td>\n",
       "      <td>...</td>\n",
       "      <td>...</td>\n",
       "      <td>...</td>\n",
       "      <td>...</td>\n",
       "      <td>...</td>\n",
       "      <td>...</td>\n",
       "      <td>...</td>\n",
       "      <td>...</td>\n",
       "      <td>...</td>\n",
       "      <td>...</td>\n",
       "      <td>...</td>\n",
       "      <td>...</td>\n",
       "      <td>...</td>\n",
       "      <td>...</td>\n",
       "      <td>...</td>\n",
       "      <td>...</td>\n",
       "      <td>...</td>\n",
       "      <td>...</td>\n",
       "      <td>...</td>\n",
       "      <td>...</td>\n",
       "    </tr>\n",
       "    <tr>\n",
       "      <th>730053</th>\n",
       "      <td>SL</td>\n",
       "      <td>2024-09-30</td>\n",
       "      <td>89.1</td>\n",
       "      <td>Díaz, Edwin</td>\n",
       "      <td>518595</td>\n",
       "      <td>621242</td>\n",
       "      <td>ATL</td>\n",
       "      <td>NYM</td>\n",
       "      <td>0</td>\n",
       "      <td>0</td>\n",
       "      <td>...</td>\n",
       "      <td>0.0</td>\n",
       "      <td>0.0</td>\n",
       "      <td>0.0</td>\n",
       "      <td>0.0</td>\n",
       "      <td>0.0</td>\n",
       "      <td>0.0</td>\n",
       "      <td>0.0</td>\n",
       "      <td>0.0</td>\n",
       "      <td>0.0</td>\n",
       "      <td>1.0</td>\n",
       "    </tr>\n",
       "    <tr>\n",
       "      <th>730054</th>\n",
       "      <td>SL</td>\n",
       "      <td>2024-09-30</td>\n",
       "      <td>91.3</td>\n",
       "      <td>Díaz, Edwin</td>\n",
       "      <td>518595</td>\n",
       "      <td>621242</td>\n",
       "      <td>ATL</td>\n",
       "      <td>NYM</td>\n",
       "      <td>0</td>\n",
       "      <td>1</td>\n",
       "      <td>...</td>\n",
       "      <td>0.0</td>\n",
       "      <td>0.0</td>\n",
       "      <td>0.0</td>\n",
       "      <td>0.0</td>\n",
       "      <td>0.0</td>\n",
       "      <td>0.0</td>\n",
       "      <td>0.0</td>\n",
       "      <td>0.0</td>\n",
       "      <td>0.0</td>\n",
       "      <td>1.0</td>\n",
       "    </tr>\n",
       "    <tr>\n",
       "      <th>730055</th>\n",
       "      <td>SL</td>\n",
       "      <td>2024-09-30</td>\n",
       "      <td>91.1</td>\n",
       "      <td>Díaz, Edwin</td>\n",
       "      <td>518595</td>\n",
       "      <td>621242</td>\n",
       "      <td>ATL</td>\n",
       "      <td>NYM</td>\n",
       "      <td>1</td>\n",
       "      <td>1</td>\n",
       "      <td>...</td>\n",
       "      <td>0.0</td>\n",
       "      <td>0.0</td>\n",
       "      <td>0.0</td>\n",
       "      <td>0.0</td>\n",
       "      <td>0.0</td>\n",
       "      <td>0.0</td>\n",
       "      <td>0.0</td>\n",
       "      <td>0.0</td>\n",
       "      <td>0.0</td>\n",
       "      <td>1.0</td>\n",
       "    </tr>\n",
       "    <tr>\n",
       "      <th>730056</th>\n",
       "      <td>SL</td>\n",
       "      <td>2024-09-30</td>\n",
       "      <td>90.7</td>\n",
       "      <td>Díaz, Edwin</td>\n",
       "      <td>518595</td>\n",
       "      <td>621242</td>\n",
       "      <td>ATL</td>\n",
       "      <td>NYM</td>\n",
       "      <td>1</td>\n",
       "      <td>2</td>\n",
       "      <td>...</td>\n",
       "      <td>0.0</td>\n",
       "      <td>0.0</td>\n",
       "      <td>0.0</td>\n",
       "      <td>0.0</td>\n",
       "      <td>0.0</td>\n",
       "      <td>0.0</td>\n",
       "      <td>0.0</td>\n",
       "      <td>0.0</td>\n",
       "      <td>0.0</td>\n",
       "      <td>1.0</td>\n",
       "    </tr>\n",
       "    <tr>\n",
       "      <th>730057</th>\n",
       "      <td>FF</td>\n",
       "      <td>2024-09-30</td>\n",
       "      <td>97.4</td>\n",
       "      <td>Díaz, Edwin</td>\n",
       "      <td>518595</td>\n",
       "      <td>621242</td>\n",
       "      <td>ATL</td>\n",
       "      <td>NYM</td>\n",
       "      <td>2</td>\n",
       "      <td>2</td>\n",
       "      <td>...</td>\n",
       "      <td>0.0</td>\n",
       "      <td>0.0</td>\n",
       "      <td>0.0</td>\n",
       "      <td>0.0</td>\n",
       "      <td>0.0</td>\n",
       "      <td>1.0</td>\n",
       "      <td>0.0</td>\n",
       "      <td>0.0</td>\n",
       "      <td>0.0</td>\n",
       "      <td>0.0</td>\n",
       "    </tr>\n",
       "  </tbody>\n",
       "</table>\n",
       "<p>730058 rows × 80 columns</p>\n",
       "</div>"
      ],
      "text/plain": [
       "       pitch_type   game_date  release_speed  player_name  batter  pitcher  \\\n",
       "0              FF  2024-03-20           94.5  Darvish, Yu  605141   506433   \n",
       "1              FF  2024-03-20           92.6  Darvish, Yu  605141   506433   \n",
       "2              SI  2024-03-20           93.4  Darvish, Yu  605141   506433   \n",
       "3              SI  2024-03-20           93.9  Darvish, Yu  605141   506433   \n",
       "4              FF  2024-03-20           95.7  Darvish, Yu  660271   506433   \n",
       "...           ...         ...            ...          ...     ...      ...   \n",
       "730053         SL  2024-09-30           89.1  Díaz, Edwin  518595   621242   \n",
       "730054         SL  2024-09-30           91.3  Díaz, Edwin  518595   621242   \n",
       "730055         SL  2024-09-30           91.1  Díaz, Edwin  518595   621242   \n",
       "730056         SL  2024-09-30           90.7  Díaz, Edwin  518595   621242   \n",
       "730057         FF  2024-09-30           97.4  Díaz, Edwin  518595   621242   \n",
       "\n",
       "       home_team away_team  balls  strikes  ...  hit_location_1.0  \\\n",
       "0             SD       LAD      0        0  ...               0.0   \n",
       "1             SD       LAD      1        0  ...               0.0   \n",
       "2             SD       LAD      1        1  ...               0.0   \n",
       "3             SD       LAD      2        1  ...               0.0   \n",
       "4             SD       LAD      0        0  ...               0.0   \n",
       "...          ...       ...    ...      ...  ...               ...   \n",
       "730053       ATL       NYM      0        0  ...               0.0   \n",
       "730054       ATL       NYM      0        1  ...               0.0   \n",
       "730055       ATL       NYM      1        1  ...               0.0   \n",
       "730056       ATL       NYM      1        2  ...               0.0   \n",
       "730057       ATL       NYM      2        2  ...               0.0   \n",
       "\n",
       "        hit_location_2.0  hit_location_3.0  hit_location_4.0  \\\n",
       "0                    0.0               0.0               0.0   \n",
       "1                    0.0               0.0               0.0   \n",
       "2                    0.0               0.0               0.0   \n",
       "3                    0.0               0.0               0.0   \n",
       "4                    0.0               0.0               0.0   \n",
       "...                  ...               ...               ...   \n",
       "730053               0.0               0.0               0.0   \n",
       "730054               0.0               0.0               0.0   \n",
       "730055               0.0               0.0               0.0   \n",
       "730056               0.0               0.0               0.0   \n",
       "730057               0.0               0.0               0.0   \n",
       "\n",
       "        hit_location_5.0  hit_location_6.0  hit_location_7.0  \\\n",
       "0                    0.0               0.0               0.0   \n",
       "1                    0.0               0.0               0.0   \n",
       "2                    0.0               0.0               0.0   \n",
       "3                    0.0               0.0               0.0   \n",
       "4                    0.0               0.0               0.0   \n",
       "...                  ...               ...               ...   \n",
       "730053               0.0               0.0               0.0   \n",
       "730054               0.0               0.0               0.0   \n",
       "730055               0.0               0.0               0.0   \n",
       "730056               0.0               0.0               0.0   \n",
       "730057               0.0               1.0               0.0   \n",
       "\n",
       "        hit_location_8.0  hit_location_9.0  hit_location_nan  \n",
       "0                    0.0               0.0               1.0  \n",
       "1                    0.0               0.0               1.0  \n",
       "2                    0.0               0.0               1.0  \n",
       "3                    0.0               0.0               1.0  \n",
       "4                    0.0               0.0               1.0  \n",
       "...                  ...               ...               ...  \n",
       "730053               0.0               0.0               1.0  \n",
       "730054               0.0               0.0               1.0  \n",
       "730055               0.0               0.0               1.0  \n",
       "730056               0.0               0.0               1.0  \n",
       "730057               0.0               0.0               0.0  \n",
       "\n",
       "[730058 rows x 80 columns]"
      ]
     },
     "execution_count": 32,
     "metadata": {},
     "output_type": "execute_result"
    }
   ],
   "source": [
    "filtered_data_encoded"
   ]
  },
  {
   "cell_type": "code",
   "execution_count": null,
   "id": "00eee8da",
   "metadata": {},
   "outputs": [],
   "source": [
    "# Compute the correlation matrix\n",
    "corr = filtered_data_encoded.corr()\n",
    "\n",
    "# Set up the matplotlib figure\n",
    "plt.figure(figsize=(16, 12))\n",
    "\n",
    "# Draw the heatmap\n",
    "sns.heatmap(corr, cmap='coolwarm', center=0, linewidths=0.5)\n",
    "\n",
    "plt.title('Correlation Heatmap of Encoded Filtered Data')\n",
    "plt.tight_layout()\n",
    "plt.show()"
   ]
  },
  {
   "cell_type": "code",
   "execution_count": 34,
   "id": "0519c73e",
   "metadata": {},
   "outputs": [
    {
     "name": "stdout",
     "output_type": "stream",
     "text": [
      "type_X <--> description_hit_into_play: correlation = 1.000\n",
      "bb_type_nan <--> description_hit_into_play: correlation = -1.000\n",
      "bb_type_nan <--> type_X: correlation = -1.000\n"
     ]
    }
   ],
   "source": [
    "# Find pairs of features with perfect or near-perfect correlation (>|0.98|, excluding self-pairs)\n",
    "threshold = 0.98\n",
    "\n",
    "# corr = filtered_data_encoded.corr()\n",
    "corr = filtered_data_encoded.select_dtypes(exclude=['object']).corr()\n",
    "\n",
    "# Select upper triangle of correlation matrix\n",
    "upper = corr.where(np.triu(np.ones(corr.shape), k=1).astype(bool))\n",
    "\n",
    "# Find pairs with correlation above threshold or below -threshold\n",
    "perfect_corr_pairs = [\n",
    "    (col, row, corr_value)\n",
    "    for col in upper.columns\n",
    "    for row, corr_value in upper[col].items()\n",
    "    if abs(corr_value) >= threshold\n",
    "]\n",
    "\n",
    "# Display the pairs\n",
    "for col1, col2, corr_val in perfect_corr_pairs:\n",
    "    print(f\"{col1} <--> {col2}: correlation = {corr_val:.3f}\")\n"
   ]
  },
  {
   "cell_type": "code",
   "execution_count": 35,
   "id": "9a355ea5",
   "metadata": {},
   "outputs": [],
   "source": [
    "filtered_data_encoded = filtered_data_encoded.drop(columns=['type_X', 'bb_type_nan'], errors='ignore')\n"
   ]
  },
  {
   "cell_type": "code",
   "execution_count": 40,
   "id": "129a8166",
   "metadata": {},
   "outputs": [
    {
     "name": "stdout",
     "output_type": "stream",
     "text": [
      "['pitch_type', 'description_ball', 'description_blocked_ball', 'description_called_strike', 'description_foul', 'description_foul_bunt', 'description_foul_tip', 'description_hit_by_pitch', 'description_hit_into_play', 'description_pitchout', 'description_swinging_strike', 'description_swinging_strike_blocked', 'stand_R', 'p_throws_R', 'type_B', 'type_S', 'bb_type_fly_ball', 'bb_type_ground_ball', 'bb_type_line_drive', 'bb_type_popup', 'inning_topbot_Top', 'zone_1.0', 'zone_2.0', 'zone_3.0', 'zone_4.0', 'zone_5.0', 'zone_6.0', 'zone_7.0', 'zone_8.0', 'zone_9.0', 'zone_11.0', 'zone_12.0', 'zone_13.0', 'zone_14.0', 'zone_nan', 'hit_location_1.0', 'hit_location_2.0', 'hit_location_3.0', 'hit_location_4.0', 'hit_location_5.0', 'hit_location_6.0', 'hit_location_7.0', 'hit_location_8.0', 'hit_location_9.0', 'hit_location_nan']\n"
     ]
    }
   ],
   "source": [
    "cols_to_list = ['description', 'stand', 'p_throws', 'type', 'bb_type', 'inning_topbot', 'zone', 'hit_location']\n",
    "matching_columns = [col for col in filtered_data_encoded.columns if any(key in col for key in cols_to_list)]\n",
    "print(matching_columns)\n"
   ]
  },
  {
   "cell_type": "code",
   "execution_count": 45,
   "id": "1b8e2b73",
   "metadata": {},
   "outputs": [
    {
     "data": {
      "text/plain": [
       "71"
      ]
     },
     "execution_count": 45,
     "metadata": {},
     "output_type": "execute_result"
    }
   ],
   "source": [
    "# Features known BEFORE pitch is thrown\n",
    "context_features = [\n",
    "    'batter', 'pitcher', 'stand_R', 'p_throws_R', 'balls', 'strikes',\n",
    "\n",
    "    'on_3b', 'on_2b', 'on_1b', 'outs_when_up', 'inning', 'inning_topbot_Top', 'at_bat_number', 'pitch_number',\n",
    "            'home_score', 'away_score', 'bat_score', 'fld_score', 'n_thruorder_pitcher', 'n_priorpa_thisgame_player_at_bat', \n",
    "            'pitcher_days_since_prev_game', 'batter_days_since_prev_game', 'pitcher_days_until_next_game', \n",
    "            'batter_days_until_next_game', 'prev_runs_scored'\n",
    "]\n",
    "        \n",
    "# Features from PREVIOUS pitches (memory)\n",
    "memory_features = [\n",
    "    'pitch_type', 'release_speed', 'launch_speed', 'launch_angle', 'release_pos_y',\n",
    "\n",
    "    'description_ball', 'description_blocked_ball', 'description_called_strike', 'description_foul', \n",
    "    'description_foul_bunt', 'description_foul_tip', 'description_hit_by_pitch', 'description_hit_into_play', \n",
    "    'description_pitchout', 'description_swinging_strike', 'description_swinging_strike_blocked', \n",
    "    'type_B', 'type_S', 'bb_type_fly_ball', 'bb_type_ground_ball', 'bb_type_line_drive', 'bb_type_popup', \n",
    "    'zone_1.0', 'zone_2.0', 'zone_3.0', 'zone_4.0', 'zone_5.0', 'zone_6.0', 'zone_7.0', 'zone_8.0', \n",
    "    'zone_9.0', 'zone_11.0', 'zone_12.0', 'zone_13.0', 'zone_14.0', 'zone_nan', 'hit_location_1.0', 'hit_location_2.0', \n",
    "    'hit_location_3.0', 'hit_location_4.0', 'hit_location_5.0', 'hit_location_6.0', 'hit_location_7.0', 'hit_location_8.0', \n",
    "    'hit_location_9.0', 'hit_location_nan'\n",
    "]\n",
    "len(memory_features) + len(context_features)"
   ]
  },
  {
   "cell_type": "code",
   "execution_count": 47,
   "id": "570c1eb6",
   "metadata": {},
   "outputs": [
    {
     "name": "stdout",
     "output_type": "stream",
     "text": [
      "Columns not in memory_features or context_features: ['game_date', 'player_name', 'home_team', 'away_team', 'game_pk', 'pitch_name', 'plate_app_id']\n"
     ]
    }
   ],
   "source": [
    "# List columns that aren't in memory_features or context_features\n",
    "all_features = set(filtered_data_encoded.columns)\n",
    "used_features = set(context_features) | set(memory_features)\n",
    "unused_features = [col for col in filtered_data_encoded.columns if col not in used_features]\n",
    "print(\"Columns not in memory_features or context_features:\", unused_features)\n"
   ]
  },
  {
   "cell_type": "code",
   "execution_count": 43,
   "id": "1ac07474",
   "metadata": {},
   "outputs": [
    {
     "name": "stdout",
     "output_type": "stream",
     "text": [
      "Object columns: ['pitch_type', 'game_date', 'player_name', 'home_team', 'away_team', 'pitch_name', 'plate_app_id']\n"
     ]
    }
   ],
   "source": [
    "object_columns = filtered_data_encoded.select_dtypes(include='object').columns.tolist()\n",
    "print(\"Object columns:\", object_columns)\n"
   ]
  },
  {
   "cell_type": "code",
   "execution_count": 49,
   "id": "e3463774",
   "metadata": {},
   "outputs": [
    {
     "name": "stdout",
     "output_type": "stream",
     "text": [
      "Null values per column:\n",
      "pitch_type                        6867\n",
      "release_speed                     8070\n",
      "launch_speed                    488495\n",
      "launch_angle                    488178\n",
      "release_pos_y                     8069\n",
      "pitch_name                        6867\n",
      "pitcher_days_since_prev_game     55457\n",
      "batter_days_since_prev_game      28899\n",
      "pitcher_days_until_next_game     48365\n",
      "batter_days_until_next_game      26741\n",
      "dtype: int64\n",
      "Total null/NaN values in DataFrame: 1166008\n"
     ]
    }
   ],
   "source": [
    "# Check for any null or NaN values in the dataset\n",
    "null_counts = filtered_data_encoded.isnull().sum()\n",
    "print(\"Null values per column:\")\n",
    "print(null_counts[null_counts > 0])\n",
    "\n",
    "# Also check if there are any NaNs at all\n",
    "total_nulls = filtered_data_encoded.isnull().sum().sum()\n",
    "print(f\"Total null/NaN values in DataFrame: {total_nulls}\")\n"
   ]
  },
  {
   "cell_type": "code",
   "execution_count": 50,
   "id": "b3681f88",
   "metadata": {},
   "outputs": [],
   "source": [
    "# Drop columns with too many missing values\n",
    "cols_to_drop = [\n",
    "    'pitcher_days_since_prev_game',\n",
    "    'batter_days_since_prev_game',\n",
    "    'pitcher_days_until_next_game',\n",
    "    'batter_days_until_next_game',\n",
    "    'launch_speed', 'launch_angle'\n",
    "]\n",
    "filtered_data_encoded = filtered_data_encoded.drop(columns=cols_to_drop)\n",
    "\n",
    "# Drop rows where pitch_type, release_speed, or release_pos_y are null\n",
    "filtered_data_encoded = filtered_data_encoded.dropna(subset=['pitch_type', 'release_speed', 'release_pos_y'])\n"
   ]
  },
  {
   "cell_type": "code",
   "execution_count": 52,
   "id": "7e1d0458",
   "metadata": {},
   "outputs": [],
   "source": [
    "filtered_data_encoded.to_csv('encoded_savant_2024.csv')"
   ]
  },
  {
   "cell_type": "code",
   "execution_count": null,
   "id": "637066d9",
   "metadata": {},
   "outputs": [],
   "source": [
    " # Features known BEFORE pitch is thrown\n",
    "context_features = [\n",
    "    'batter', 'pitcher', 'stand_R', 'p_throws_R', 'balls', 'strikes',\n",
    "\n",
    "    'on_3b', 'on_2b', 'on_1b', 'outs_when_up', 'inning', 'inning_topbot_Top', 'at_bat_number', 'pitch_number',\n",
    "    'home_score', 'away_score', 'bat_score', 'fld_score', 'n_thruorder_pitcher', 'n_priorpa_thisgame_player_at_bat',\n",
    "    'prev_runs_scored'\n",
    "]\n",
    "        \n",
    "# Features from PREVIOUS pitches (memory)\n",
    "memory_features = [\n",
    "    'pitch_type', 'release_speed', 'release_pos_y',\n",
    "\n",
    "    'description_ball', 'description_blocked_ball', 'description_called_strike', 'description_foul', \n",
    "    'description_foul_bunt', 'description_foul_tip', 'description_hit_by_pitch', 'description_hit_into_play', \n",
    "    'description_pitchout', 'description_swinging_strike', 'description_swinging_strike_blocked', \n",
    "    'type_B', 'type_S', 'bb_type_fly_ball', 'bb_type_ground_ball', 'bb_type_line_drive', 'bb_type_popup', \n",
    "    'zone_1.0', 'zone_2.0', 'zone_3.0', 'zone_4.0', 'zone_5.0', 'zone_6.0', 'zone_7.0', 'zone_8.0', \n",
    "    'zone_9.0', 'zone_11.0', 'zone_12.0', 'zone_13.0', 'zone_14.0', 'zone_nan', 'hit_location_1.0', 'hit_location_2.0', \n",
    "    'hit_location_3.0', 'hit_location_4.0', 'hit_location_5.0', 'hit_location_6.0', 'hit_location_7.0', 'hit_location_8.0', \n",
    "    'hit_location_9.0', 'hit_location_nan'\n",
    "]"
   ]
  },
  {
   "cell_type": "code",
   "execution_count": 53,
   "id": "cba93186",
   "metadata": {},
   "outputs": [
    {
     "name": "stdout",
     "output_type": "stream",
     "text": [
      "Null values per column:\n",
      "Series([], dtype: int64)\n",
      "Total null/NaN values in DataFrame: 0\n"
     ]
    }
   ],
   "source": [
    "# Check for any null or NaN values in the dataset\n",
    "null_counts = filtered_data_encoded.isnull().sum()\n",
    "print(\"Null values per column:\")\n",
    "print(null_counts[null_counts > 0])\n",
    "\n",
    "# Also check if there are any NaNs at all\n",
    "total_nulls = filtered_data_encoded.isnull().sum().sum()\n",
    "print(f\"Total null/NaN values in DataFrame: {total_nulls}\")"
   ]
  },
  {
   "cell_type": "code",
   "execution_count": 55,
   "id": "9e775941",
   "metadata": {},
   "outputs": [
    {
     "name": "stdout",
     "output_type": "stream",
     "text": [
      "Number of unique batters: 971\n",
      "Number of unique pitchers: 974\n",
      "Number of unique pitch types: 17\n"
     ]
    }
   ],
   "source": [
    "num_unique_batters = filtered_data_encoded['batter'].nunique()\n",
    "num_unique_pitchers = filtered_data_encoded['pitcher'].nunique()\n",
    "print(f\"Number of unique batters: {num_unique_batters}\")\n",
    "print(f\"Number of unique pitchers: {num_unique_pitchers}\")\n",
    "num_unique_pitch_types = filtered_data_encoded['pitch_type'].nunique()\n",
    "print(f\"Number of unique pitch types: {num_unique_pitch_types}\")\n",
    "\n"
   ]
  },
  {
   "cell_type": "code",
   "execution_count": 58,
   "id": "054ec942",
   "metadata": {},
   "outputs": [
    {
     "name": "stdout",
     "output_type": "stream",
     "text": [
      "pitch_type_group\n",
      "FAST     403091\n",
      "BREAK    221339\n",
      "OFF       96141\n",
      "OTH        1262\n",
      "NaN         155\n",
      "Name: count, dtype: int64\n"
     ]
    }
   ],
   "source": [
    "# Map pitch_type to pitch_type_group\n",
    "pitch_type_map = {\n",
    "    'FF': 'FAST', 'SI': 'FAST', 'FC': 'FAST',\n",
    "    'CH': 'OFF', 'FS': 'OFF', 'FO': 'OFF',\n",
    "    'CU': 'BREAK', 'KC': 'BREAK', 'CS': 'BREAK', 'KN': 'BREAK', 'SL': 'BREAK', 'ST': 'BREAK', 'SV': 'BREAK',\n",
    "    'EP': 'OTH', 'FA': 'OTH', 'IN': 'OTH', 'PO': 'OTH'\n",
    "}\n",
    "\n",
    "filtered_data_encoded['pitch_type_group'] = filtered_data_encoded['pitch_type'].map(pitch_type_map)\n",
    "print(filtered_data_encoded['pitch_type_group'].value_counts(dropna=False))\n"
   ]
  },
  {
   "cell_type": "code",
   "execution_count": null,
   "id": "cd9ddb82",
   "metadata": {},
   "outputs": [],
   "source": [
    "filtered_data_encoded = filtered_data_encoded.dropna(subset=['pitch_type_group'])"
   ]
  },
  {
   "cell_type": "code",
   "execution_count": 65,
   "id": "0bdd6f00",
   "metadata": {},
   "outputs": [
    {
     "name": "stdout",
     "output_type": "stream",
     "text": [
      "       release_speed  release_pos_y\n",
      "count   7.218330e+05   7.218330e+05\n",
      "mean   -1.614349e-15  -1.831278e-14\n",
      "std     1.000001e+00   1.000001e+00\n",
      "min    -9.580467e+00  -5.000071e+00\n",
      "25%    -7.111089e-01  -6.420656e-01\n",
      "50%     1.423577e-01  -2.887896e-02\n",
      "75%     8.117433e-01   6.281067e-01\n",
      "max     2.736227e+00   7.154164e+00\n"
     ]
    },
    {
     "name": "stderr",
     "output_type": "stream",
     "text": [
      "/var/folders/rb/k_y0ysf94m7_k0f10k0f4h5r0000gn/T/ipykernel_90252/2258328032.py:10: SettingWithCopyWarning: \n",
      "A value is trying to be set on a copy of a slice from a DataFrame.\n",
      "Try using .loc[row_indexer,col_indexer] = value instead\n",
      "\n",
      "See the caveats in the documentation: https://pandas.pydata.org/pandas-docs/stable/user_guide/indexing.html#returning-a-view-versus-a-copy\n",
      "  filtered_data_encoded[cols_to_normalize] = scaler.fit_transform(filtered_data_encoded[cols_to_normalize])\n"
     ]
    }
   ],
   "source": [
    "from sklearn.preprocessing import StandardScaler\n",
    "\n",
    "# Select columns to normalize\n",
    "cols_to_normalize = ['release_speed', 'release_pos_y']\n",
    "\n",
    "# Initialize the scaler\n",
    "scaler = StandardScaler()\n",
    "\n",
    "# Fit and transform the selected columns\n",
    "filtered_data_encoded[cols_to_normalize] = scaler.fit_transform(filtered_data_encoded[cols_to_normalize])\n",
    "\n",
    "# Check the result\n",
    "print(filtered_data_encoded[cols_to_normalize].describe())"
   ]
  },
  {
   "cell_type": "code",
   "execution_count": 66,
   "id": "5b3c577c",
   "metadata": {},
   "outputs": [],
   "source": [
    "filtered_data_encoded.to_csv('final_encoded_savant_2024.csv')"
   ]
  },
  {
   "cell_type": "code",
   "execution_count": 78,
   "id": "b976193b",
   "metadata": {},
   "outputs": [
    {
     "data": {
      "text/plain": [
       "[np.float64(0.0),\n",
       " np.float64(1.0),\n",
       " np.int64(0),\n",
       " np.int64(2),\n",
       " np.int64(0),\n",
       " np.int64(0),\n",
       " np.int64(1),\n",
       " np.int64(0),\n",
       " np.int64(3),\n",
       " np.float64(0.0),\n",
       " np.int64(23),\n",
       " np.int64(3),\n",
       " np.int64(0),\n",
       " np.int64(0),\n",
       " np.int64(0),\n",
       " np.int64(0),\n",
       " np.int64(1),\n",
       " np.int64(0),\n",
       " np.float64(0.0)]"
      ]
     },
     "execution_count": 78,
     "metadata": {},
     "output_type": "execute_result"
    }
   ],
   "source": [
    "import numpy as np\n",
    "\n",
    "# List of context features from model.py\n",
    "context_features = [\n",
    "    'stand_R', 'p_throws_R', 'balls', 'strikes',\n",
    "    'on_3b', 'on_2b', 'on_1b', 'outs_when_up', 'inning', 'inning_topbot_Top', 'at_bat_number', 'pitch_number',\n",
    "    'home_score', 'away_score', 'bat_score', 'fld_score', 'n_thruorder_pitcher', 'n_priorpa_thisgame_player_at_bat',\n",
    "    'prev_runs_scored'\n",
    "]\n",
    "\n",
    "# Sample a random row with these features from filtered_data_encoded\n",
    "list(filtered_data_encoded.iloc[100][context_features].values)\n"
   ]
  },
  {
   "cell_type": "code",
   "execution_count": null,
   "id": "369cebe6",
   "metadata": {},
   "outputs": [],
   "source": [
    "df = pd.read_csv('final_encoded_savant_2024.csv')\n",
    "from sklearn.preprocessing import OneHotEncoder\n",
    "\n",
    "# One-hot encode 'pitch_type_group' column\n",
    "encoder = OneHotEncoder(sparse_output=False, handle_unknown='ignore', drop='if_binary')\n",
    "pitch_type_group_encoded = encoder.fit_transform(df[['pitch_type_group']])\n",
    "\n",
    "# Get the new column names\n",
    "encoded_col_names = [f'pitch_type_group_{cat}' for cat in encoder.categories_[0]]\n",
    "\n",
    "# Add the new columns to df\n",
    "for i, col in enumerate(encoded_col_names):\n",
    "    df[col] = pitch_type_group_encoded[:, i]\n",
    "\n",
    "# Optionally, drop the original column if you don't need it\n",
    "df = df.drop(columns=['pitch_type_group_OTH', 'Unnamed: 0'])\n",
    "df.to_csv('final_final_encoded_savant_2024.csv')"
   ]
  },
  {
   "cell_type": "code",
   "execution_count": 104,
   "id": "35d480d2",
   "metadata": {},
   "outputs": [
    {
     "name": "stdout",
     "output_type": "stream",
     "text": [
      "Data types of context_features elements:\n",
      "Index 0: <class 'numpy.float64'>\n",
      "Index 1: <class 'numpy.float64'>\n",
      "Index 2: <class 'numpy.int64'>\n",
      "Index 3: <class 'numpy.int64'>\n",
      "Index 4: <class 'numpy.int64'>\n",
      "Index 5: <class 'numpy.int64'>\n",
      "Index 6: <class 'numpy.int64'>\n",
      "Index 7: <class 'numpy.int64'>\n",
      "Index 8: <class 'numpy.int64'>\n",
      "Index 9: <class 'numpy.float64'>\n",
      "Index 10: <class 'numpy.int64'>\n",
      "Index 11: <class 'numpy.int64'>\n",
      "Index 12: <class 'numpy.int64'>\n",
      "Index 13: <class 'numpy.int64'>\n",
      "Index 14: <class 'numpy.int64'>\n",
      "Index 15: <class 'numpy.int64'>\n",
      "Index 16: <class 'numpy.int64'>\n",
      "Index 17: <class 'numpy.int64'>\n",
      "Index 18: <class 'numpy.float64'>\n"
     ]
    }
   ],
   "source": [
    "print(\"Data types of context_features elements:\")\n",
    "for i, val in enumerate(filtered_data_encoded.iloc[100][context_features].values):\n",
    "    print(f\"Index {i}: {type(val)}\")\n"
   ]
  },
  {
   "cell_type": "markdown",
   "id": "04a91d16",
   "metadata": {},
   "source": [
    "### Pybaseball Pitcher/Batter Stats"
   ]
  },
  {
   "cell_type": "code",
   "execution_count": 38,
   "id": "52c1c4ee",
   "metadata": {},
   "outputs": [],
   "source": [
    "from pybaseball import pitching_stats_bref\n",
    "\n",
    "# retrieve data on the 2009 season\n",
    "dat = pitching_stats_bref(2023)"
   ]
  },
  {
   "cell_type": "code",
   "execution_count": 70,
   "id": "2e70cb54",
   "metadata": {},
   "outputs": [],
   "source": [
    "pitching_stats_23 = dat[['mlbID', '#days', 'Age', 'G', 'GS', 'W', 'L', 'SV', 'IP',\n",
    "       'H', 'R', 'ER', 'BB', 'SO', 'HR', 'HBP', 'ERA', 'AB', '2B', '3B', 'IBB',\n",
    "       'GDP', 'SF', 'SB', 'CS', 'PO', 'BF', 'Pit', 'Str', 'StL', 'StS',\n",
    "       'GB/FB', 'LD', 'PU', 'WHIP', 'BAbip', 'SO9', 'SO/W']].fillna(0)"
   ]
  },
  {
   "cell_type": "code",
   "execution_count": 42,
   "id": "5e3ce803",
   "metadata": {},
   "outputs": [],
   "source": [
    "from pybaseball import batting_stats_bref\n",
    "\n",
    "# retrieve data on the 2009 season\n",
    "dat_b = batting_stats_bref(2024)"
   ]
  },
  {
   "cell_type": "code",
   "execution_count": 71,
   "id": "20ea7145",
   "metadata": {},
   "outputs": [],
   "source": [
    "batting_stats_23 = dat_b[['mlbID', 'Age', '#days', 'G', 'PA', 'AB', 'R', 'H', '2B',\n",
    "       '3B', 'HR', 'RBI', 'BB', 'IBB', 'SO', 'HBP', 'SH', 'SF', 'GDP', 'SB',\n",
    "       'CS', 'BA', 'OBP', 'SLG', 'OPS']].fillna(0)"
   ]
  },
  {
   "cell_type": "code",
   "execution_count": 72,
   "id": "842aa69e",
   "metadata": {},
   "outputs": [],
   "source": [
    "from sklearn.preprocessing import StandardScaler\n",
    "\n",
    "pitcher_cols_to_normalize = ['#days', 'Age', 'G', 'GS', 'W', 'L', 'SV', 'IP',\n",
    "       'H', 'R', 'ER', 'BB', 'SO', 'HR', 'HBP', 'ERA', 'AB', '2B', '3B', 'IBB',\n",
    "       'GDP', 'SF', 'SB', 'CS', 'PO', 'BF', 'Pit', 'Str', 'StL', 'StS',\n",
    "       'GB/FB', 'LD', 'PU', 'WHIP', 'BAbip', 'SO9', 'SO/W']\n",
    "\n",
    "batter_cols_to_normalize = ['Age', '#days', 'G', 'PA', 'AB', 'R', 'H', '2B',\n",
    "       '3B', 'HR', 'RBI', 'BB', 'IBB', 'SO', 'HBP', 'SH', 'SF', 'GDP', 'SB',\n",
    "       'CS', 'BA', 'OBP', 'SLG', 'OPS']\n",
    "\n",
    "scaler = StandardScaler()\n",
    "\n",
    "# Fit and transform the selected columns\n",
    "pitching_stats_23[pitcher_cols_to_normalize] = scaler.fit_transform(pitching_stats_23[pitcher_cols_to_normalize])\n",
    "batting_stats_23[batter_cols_to_normalize] = scaler.fit_transform(batting_stats_23[batter_cols_to_normalize])"
   ]
  },
  {
   "cell_type": "code",
   "execution_count": 75,
   "id": "3a07727a",
   "metadata": {},
   "outputs": [],
   "source": [
    "pitching_stats_23.to_csv('pitching_stats_23.csv', index=False)\n",
    "batting_stats_23.to_csv('batting_stats_23.csv', index=False)"
   ]
  },
  {
   "cell_type": "code",
   "execution_count": null,
   "id": "0527139b",
   "metadata": {},
   "outputs": [],
   "source": [
    "df = pd.read_csv('./data/final_final_encoded_savant_2024.csv')\n",
    "df.head(50)"
   ]
  },
  {
   "cell_type": "code",
   "execution_count": 6,
   "id": "d8cef286",
   "metadata": {},
   "outputs": [],
   "source": [
    "df.loc[:,'player_game_id'] =  df['game_pk'].astype(str) + df['pitcher'].astype(str)\n",
    "df.to_csv('player_game_savant.csv')"
   ]
  },
  {
   "cell_type": "markdown",
   "id": "88783b8d",
   "metadata": {},
   "source": [
    "### Pitch Prediction Accuracy Validation (Plate Memory -- Live Data Only)"
   ]
  },
  {
   "cell_type": "code",
   "execution_count": 12,
   "id": "b231fab0",
   "metadata": {},
   "outputs": [
    {
     "data": {
      "text/plain": [
       "PitchPredictorLSTM(\n",
       "  (pitcher_feat_embed): Sequential(\n",
       "    (0): Linear(in_features=37, out_features=32, bias=True)\n",
       "    (1): ReLU()\n",
       "    (2): Linear(in_features=32, out_features=16, bias=True)\n",
       "  )\n",
       "  (batter_feat_embed): Sequential(\n",
       "    (0): Linear(in_features=24, out_features=32, bias=True)\n",
       "    (1): ReLU()\n",
       "    (2): Linear(in_features=32, out_features=16, bias=True)\n",
       "  )\n",
       "  (lstm): LSTM(18, 128, num_layers=2, batch_first=True, dropout=0.2)\n",
       "  (context_fc): Sequential(\n",
       "    (0): Linear(in_features=47, out_features=128, bias=True)\n",
       "    (1): ReLU()\n",
       "    (2): Dropout(p=0.3, inplace=False)\n",
       "    (3): Linear(in_features=128, out_features=64, bias=True)\n",
       "  )\n",
       "  (combined_fc): Sequential(\n",
       "    (0): Linear(in_features=192, out_features=128, bias=True)\n",
       "    (1): ReLU()\n",
       "    (2): Dropout(p=0.3, inplace=False)\n",
       "    (3): Linear(in_features=128, out_features=64, bias=True)\n",
       "    (4): ReLU()\n",
       "    (5): Linear(in_features=64, out_features=4, bias=True)\n",
       "  )\n",
       ")"
      ]
     },
     "execution_count": 12,
     "metadata": {},
     "output_type": "execute_result"
    }
   ],
   "source": [
    "import pickle\n",
    "import torch\n",
    "import model\n",
    "\n",
    "# Load model config/specs\n",
    "with open(\"./models/pitch_predictor_lstm_meta1.pkl\", \"rb\") as f:\n",
    "    meta = pickle.load(f)\n",
    "\n",
    "# Instantiate the model using the loaded specs\n",
    "loaded_mod = model.PitchPredictorLSTM(\n",
    "    context_dim=meta[\"lstm_init_args\"]['context_dim'],\n",
    "    memory_dim=meta[\"lstm_init_args\"]['memory_dim'],\n",
    "    num_pitchers=len(meta[\"pitcher_to_id\"]),\n",
    "    num_batters=len(meta[\"batter_to_id\"]),\n",
    "    pitcher_embed_dim=16,\n",
    "    batter_embed_dim=16,\n",
    "    lstm_hidden_dim=128,\n",
    "    num_pitch_types=4\n",
    ")\n",
    "\n",
    "# Load the trained weights\n",
    "loaded_mod.load_state_dict(torch.load(\"./models/pitch_predictor_lstm1.pth\", map_location=\"cpu\"))\n",
    "loaded_mod.eval()\n"
   ]
  },
  {
   "cell_type": "code",
   "execution_count": null,
   "id": "d6b44eb7",
   "metadata": {},
   "outputs": [],
   "source": [
    "import model\n",
    "batter_df = pd.read_csv('./data/batting_stats_23.csv')\n",
    "pitcher_df = pd.read_csv('./data/pitching_stats_23.csv')\n",
    "with open('./data/val_dataset_emb.pkl', 'rb') as f:\n",
    "            val_dataset = pickle.load(f)\n",
    "            \n",
    "pitcher_stat_cols = ['#days', 'Age', 'G', 'GS', 'W', 'L', 'SV', 'IP', 'H', 'R', 'ER', 'BB', \n",
    "                                  'SO', 'HR', 'HBP', 'ERA', 'AB', '2B', '3B', 'IBB', 'GDP', 'SF', 'SB', 'CS', 'PO', 'BF', 'Pit', \n",
    "                                  'Str', 'StL', 'StS', 'GB/FB', 'LD', 'PU', 'WHIP', 'BAbip', 'SO9', 'SO/W']\n",
    "        \n",
    "batter_stat_cols = ['#days', 'Age', 'G', 'PA', 'AB', 'R', 'H', '2B', '3B', 'HR', 'RBI', 'BB', 'IBB', 'SO', 'HBP', \n",
    "                            'SH', 'SF', 'GDP', 'SB', 'CS', 'BA', 'OBP', 'SLG', 'OPS']\n",
    "count = 0\n",
    "correct = 0\n",
    "non_fast_pred_count = 0\n",
    "for context, pitcher_id, batter_id, memory_seq, pitcher_stats, batter_stats, target in val_dataset:\n",
    "\n",
    "    pitcher_row = pitcher_df[pitcher_df['mlbID'] == pitcher_id]\n",
    "    if not pitcher_row.empty:\n",
    "        pitcher_stats_vec = torch.FloatTensor(pitcher_row[pitcher_stat_cols].values[0])\n",
    "    else:\n",
    "        pitcher_stats_vec = torch.zeros(len(pitcher_stat_cols))\n",
    "\n",
    "    batter_row = batter_df[batter_df['mlbID'] == batter_id]\n",
    "    if not batter_row.empty:\n",
    "        batter_stats_vec = torch.FloatTensor(batter_row[batter_stat_cols].values[0])\n",
    "    else:\n",
    "        batter_stats_vec = torch.zeros(len(batter_stat_cols))\n",
    "\n",
    "    probs = model.predict_next_pitch(loaded_mod, current_context=context, pitcher_id=[pitcher_id.item()], \n",
    "                    batter_id=[batter_id.item()], previous_pitches_in_pa=memory_seq,\n",
    "                    pitcher_stats=pitcher_stats_vec.unsqueeze(0), batter_stats=batter_stats_vec.unsqueeze(0))\n",
    "    \n",
    "\n",
    "    idx_to_pitch_type = {v: k for k, v in meta['pitch_type_to_idx'].items()}\n",
    "    probs = {idx_to_pitch_type[i]: float(probs[0, i]) for i in range(probs.shape[1])}\n",
    "    # pitch_probs\n",
    "\n",
    "    highest_key = ''\n",
    "    highest_prob = 0\n",
    "    #print(probs)\n",
    "    for key in probs:\n",
    "        if probs[key] > highest_prob:\n",
    "            highest_prob = probs[key]\n",
    "            highest_key = key\n",
    "    \n",
    "    pitch_types = ['FAST', 'OFF', 'BREAK', 'OTH']\n",
    "    print(f'Actual: {pitch_types[target]} Predicted: {highest_key} with prob {highest_prob: 0.4f}')\n",
    "    count+=1\n",
    "    if (highest_key != 'FAST'):\n",
    "        non_fast_pred_count += 1\n",
    "    if (pitch_types[target] == highest_key):\n",
    "        correct += 1"
   ]
  },
  {
   "cell_type": "code",
   "execution_count": 31,
   "id": "056259a8",
   "metadata": {},
   "outputs": [
    {
     "data": {
      "text/plain": [
       "0.5657145481263777"
      ]
     },
     "execution_count": 31,
     "metadata": {},
     "output_type": "execute_result"
    }
   ],
   "source": [
    "correct/count"
   ]
  },
  {
   "cell_type": "code",
   "execution_count": 32,
   "id": "09910283",
   "metadata": {},
   "outputs": [
    {
     "data": {
      "text/plain": [
       "0.023902461425422482"
      ]
     },
     "execution_count": 32,
     "metadata": {},
     "output_type": "execute_result"
    }
   ],
   "source": [
    "non_fast_pred_count/count"
   ]
  },
  {
   "cell_type": "markdown",
   "id": "919ea190",
   "metadata": {},
   "source": [
    "### More Potential Batting Data"
   ]
  },
  {
   "cell_type": "code",
   "execution_count": null,
   "id": "396809e1",
   "metadata": {},
   "outputs": [],
   "source": [
    "from pybaseball import statcast_pitcher_pitch_arsenal\n",
    "\n",
    "# get average pitch speed data for all qualified pitchers in 2023\n",
    "data = statcast_pitcher_pitch_arsenal(2023)\n",
    "data['pitcher'].unique()"
   ]
  },
  {
   "cell_type": "code",
   "execution_count": 54,
   "id": "7b880c87",
   "metadata": {},
   "outputs": [],
   "source": [
    "pitch_arsenal_df = pd.read_csv('./data/pitch-arsenal-stats.csv')"
   ]
  },
  {
   "cell_type": "code",
   "execution_count": 52,
   "id": "af93eb68",
   "metadata": {},
   "outputs": [
    {
     "data": {
      "text/plain": [
       "array([642547, 669203, 669022, 592332, 656302, 668881, 607074, 684007,\n",
       "       650911, 666142, 664285, 571578, 680730, 669194, 605135, 663903,\n",
       "       657006, 690986, 571760, 657277, 671096, 450203, 661563, 605400,\n",
       "       579328, 542881, 622491, 678394, 519242, 676979, 663559, 543135,\n",
       "       656427, 601713, 676440, 656557, 554430, 625643, 641154, 663623,\n",
       "       623167, 621244, 676664, 641482, 668678, 682243, 669923, 544150,\n",
       "       669302, 686752, 641927, 668964, 572020, 676710, 656288, 665871,\n",
       "       663372, 663855, 657746, 622663, 593423, 681293, 667755, 683155,\n",
       "       608331, 683003, 543294, 608379, 500779, 596295, 669467, 607192,\n",
       "       687765, 671737, 570632, 615698, 686613, 650633, 669373, 624133,\n",
       "       641793, 669854, 670102, 573186, 607200, 694297, 640455, 680573,\n",
       "       650644, 527048, 663362, 680570, 458681, 657612, 607067, 594902,\n",
       "       434378, 694973, 656629, 621107, 693433, 686799, 671922, 680767,\n",
       "       656222, 571945, 592351, 661403, 502043, 663474, 656605, 668933,\n",
       "       543243, 623352, 687792, 641540, 607625, 656756, 643511, 657044,\n",
       "       663546, 663158, 677944, 650556, 663554, 572955, 543037, 641755,\n",
       "       669211, 687330, 664875, 592791, 445276, 640448, 502085, 663432,\n",
       "       679525, 663687, 656849, 681911, 665152, 671106, 621389, 518886,\n",
       "       672456, 663978, 605483, 669432, 656945, 676254, 682847, 613534,\n",
       "       668909, 666157, 674003, 647315, 621237, 670280, 686563, 669060,\n",
       "       605280, 641712, 686539, 660853, 605288, 806185, 684320, 657649,\n",
       "       543859, 695243, 669358, 665795, 628317, 694813, 656464, 656731,\n",
       "       571670, 666808, 676684, 671345, 607536, 489446, 683232, 667463,\n",
       "       607259, 663878, 547179, 681867, 681676, 693312, 656730, 596133,\n",
       "       808967, 592773, 670950, 641835, 642232, 606930, 672282, 608032,\n",
       "       657376, 679885, 686730, 552640, 689147, 658648, 571882, 518585,\n",
       "       665625, 671212, 592767, 641729, 677053, 605154, 573124, 672582,\n",
       "       669093, 680885, 592454, 621381, 694363, 472610, 683769, 643338,\n",
       "       640451, 676395, 664854, 677960, 676962, 571946, 640462, 445926,\n",
       "       666214, 689017, 641302, 670174, 592426, 664747, 683627, 519008,\n",
       "       669276, 669062, 621242, 593576, 700249, 666974, 605463, 608344,\n",
       "       663542, 605452, 681857, 572143, 608718, 543339, 607179, 662253,\n",
       "       675627, 668338, 663776, 605177, 663773, 673513, 471911, 657571,\n",
       "       669622, 681190, 650893, 678368, 681035, 596001, 657097, 642397,\n",
       "       678495, 605121, 548389, 605130, 647336, 670059, 669713, 689225,\n",
       "       607481, 664776, 519043, 657508, 674370, 571927, 701581, 622554,\n",
       "       458677, 592094, 600917, 660896, 571656, 656546])"
      ]
     },
     "execution_count": 52,
     "metadata": {},
     "output_type": "execute_result"
    }
   ],
   "source": [
    "pitch_arsenal_df['player_id'].unique()"
   ]
  },
  {
   "cell_type": "code",
   "execution_count": null,
   "id": "f1b8acfc",
   "metadata": {},
   "outputs": [],
   "source": [
    "for pitcher_id, pitcher_data in pitch_arsenal_df.groupby('player_id'):\n",
    "    print(pitcher_id)\n",
    "    #print(pitcher_data.columns)\n",
    "    print(pitcher_data[['last_name, first_name', 'pitch_type',\n",
    "                    'run_value', 'pitch_usage']])"
   ]
  },
  {
   "cell_type": "code",
   "execution_count": 56,
   "id": "fee7dbd5",
   "metadata": {},
   "outputs": [
    {
     "name": "stdout",
     "output_type": "stream",
     "text": [
      "Do they have the same unique values? False\n",
      "Values only in data['pitcher']: {np.int64(669697), np.int64(663554), np.int64(692230), np.int64(808967), np.int64(808970), np.int64(595978), np.int64(593934), np.int64(663568), np.int64(663574), np.int64(669724), np.int64(661536), np.int64(661563), np.int64(692285), np.int64(694335), np.int64(677955), np.int64(677958), np.int64(571466), np.int64(667725), np.int64(694350), np.int64(675921), np.int64(694357), np.int64(677976), np.int64(694361), np.int64(682073), np.int64(688230), np.int64(622694), np.int64(694381), np.int64(641149), np.int64(678020), np.int64(571527), np.int64(675976), np.int64(673929), np.int64(596117), np.int64(680089), np.int64(542882), np.int64(694436), np.int64(688297), np.int64(671922), np.int64(547001), np.int64(694462), np.int64(622786), np.int64(696522), np.int64(702674), np.int64(663767), np.int64(657624), np.int64(665828), np.int64(657649), np.int64(663795), np.int64(700669), np.int64(676105), np.int64(571657), np.int64(682254), np.int64(592155), np.int64(684320), np.int64(657697), np.int64(641312), np.int64(592169), np.int64(571710), np.int64(641343), np.int64(643396), np.int64(702795), np.int64(678226), np.int64(663893), np.int64(543063), np.int64(663897), np.int64(545121), np.int64(528748), np.int64(690544), np.int64(694646), np.int64(571771), np.int64(686463), np.int64(678279), np.int64(608648), np.int64(665996), np.int64(641427), np.int64(670103), np.int64(592288), np.int64(663969), np.int64(502179), np.int64(663977), np.int64(663978), np.int64(641461), np.int64(620982), np.int64(676282), np.int64(702911), np.int64(801216), np.int64(684483), np.int64(670161), np.int64(694738), np.int64(678368), np.int64(686563), np.int64(518633), np.int64(686580), np.int64(664054), np.int64(621053), np.int64(641541), np.int64(543238), np.int64(571912), np.int64(666122), np.int64(670219), np.int64(664079), np.int64(670223), np.int64(655889), np.int64(672277), np.int64(664092), np.int64(670242), np.int64(666149), np.int64(666151), np.int64(676391), np.int64(621097), np.int64(641582), np.int64(686642), np.int64(666163), np.int64(621111), np.int64(621114), np.int64(666171), np.int64(664123), np.int64(623168), np.int64(664129), np.int64(543305), np.int64(676428), np.int64(666197), np.int64(592473), np.int64(666202), np.int64(666207), np.int64(678495), np.int64(666208), np.int64(676454), np.int64(666215), np.int64(543339), np.int64(641645), np.int64(682607), np.int64(682610), np.int64(641658), np.int64(680572), np.int64(680573), np.int64(621199), np.int64(676498), np.int64(801434), np.int64(680604), np.int64(676508), np.int64(543391), np.int64(686751), np.int64(678576), np.int64(670389), np.int64(621242), np.int64(694973), np.int64(641726), np.int64(686790), np.int64(672456), np.int64(686796), np.int64(686799), np.int64(676568), np.int64(701151), np.int64(690916), np.int64(668390), np.int64(690925), np.int64(572143), np.int64(695026), np.int64(692983), np.int64(676604), np.int64(680701), np.int64(703231), np.int64(676614), np.int64(676617), np.int64(543510), np.int64(680730), np.int64(680732), np.int64(664350), np.int64(664351), np.int64(680736), np.int64(678692), np.int64(695076), np.int64(680742), np.int64(672552), np.int64(805673), np.int64(680744), np.int64(676661), np.int64(668472), np.int64(678713), np.int64(656186), np.int64(691004), np.int64(592716), np.int64(676689), np.int64(678738), np.int64(621399), np.int64(691032), np.int64(688984), np.int64(623454), np.int64(805728), np.int64(519008), np.int64(701288), np.int64(656240), np.int64(543606), np.int64(689017), np.int64(656266), np.int64(686993), np.int64(684946), np.int64(676755), np.int64(801682), np.int64(689042), np.int64(600986), np.int64(623520), np.int64(678821), np.int64(687014), np.int64(680880), np.int64(680885), np.int64(814005), np.int64(680891), np.int64(605121), np.int64(680897), np.int64(680911), np.int64(607200), np.int64(642016), np.int64(656354), np.int64(605156), np.int64(691172), np.int64(642028), np.int64(682989), np.int64(621550), np.int64(607216), np.int64(678906), np.int64(683003), np.int64(683004), np.int64(500743), np.int64(814088), np.int64(683021), np.int64(672782), np.int64(676879), np.int64(687134), np.int64(666659), np.int64(656420), np.int64(642086), np.int64(685107), np.int64(685116), np.int64(683068), np.int64(672836), np.int64(685126), np.int64(672839), np.int64(595014), np.int64(642121), np.int64(656458), np.int64(681035), np.int64(642130), np.int64(642133), np.int64(666711), np.int64(672860), np.int64(701533), np.int64(683101), np.int64(676961), np.int64(676962), np.int64(701542), np.int64(676969), np.int64(681066), np.int64(676974), np.int64(660600), np.int64(676987), np.int64(674944), np.int64(668800), np.int64(681094), np.int64(814217), np.int64(701581), np.int64(670871), np.int64(605335), np.int64(519326), np.int64(701603), np.int64(656548), np.int64(660644), np.int64(656550), np.int64(642215), np.int64(687287), np.int64(689337), np.int64(668873), np.int64(668874), np.int64(681168), np.int64(677076), np.int64(670955), np.int64(691441), np.int64(685299), np.int64(679156), np.int64(650489), np.int64(695549), np.int64(687362), np.int64(656647), np.int64(605452), np.int64(668942), np.int64(668943), np.int64(687377), np.int64(701719), np.int64(656671), np.int64(668964), np.int64(687397), np.int64(668968), np.int64(806185), np.int64(800049), np.int64(656701), np.int64(687424), np.int64(664901), np.int64(669001), np.int64(656716), np.int64(681293), np.int64(656726), np.int64(660844), np.int64(681347), np.int64(802180), np.int64(671109), np.int64(669062), np.int64(683409), np.int64(544150), np.int64(685464), np.int64(656793), np.int64(669111), np.int64(665019), np.int64(679358), np.int64(554431), np.int64(656848), np.int64(572888), np.int64(642520), np.int64(546276), np.int64(687589), np.int64(669165), np.int64(693759), np.int64(656896), np.int64(622088), np.int64(689672), np.int64(593423), np.int64(669199), np.int64(689690), np.int64(656924), np.int64(681517), np.int64(683568), np.int64(802363), np.int64(642629), np.int64(671305), np.int64(656976), np.int64(665178), np.int64(683618), np.int64(681571), np.int64(673380), np.int64(683627), np.int64(669308), np.int64(687765), np.int64(503449), np.int64(667297), np.int64(657061), np.int64(622253), np.int64(669358), np.int64(687792), np.int64(669372), np.int64(622268), np.int64(681676), np.int64(669391), np.int64(687847), np.int64(669416), np.int64(673513), np.int64(685801), np.int64(669422), np.int64(691951), np.int64(687863), np.int64(687866), np.int64(681738), np.int64(681739), np.int64(681744), np.int64(642834), np.int64(661269), np.int64(667414), np.int64(700187), np.int64(689958), np.int64(687911), np.int64(657193), np.int64(683822), np.int64(624431), np.int64(687924), np.int64(689981), np.int64(675650), np.int64(696131), np.int64(681799), np.int64(573262), np.int64(700241), np.int64(681810), np.int64(667478), np.int64(700249), np.int64(700270), np.int64(640902), np.int64(663432), np.int64(663436), np.int64(681870), np.int64(681871), np.int64(702352), np.int64(620443), np.int64(679845), np.int64(595881), np.int64(669620), np.int64(458677), np.int64(669622), np.int64(595897), np.int64(681924), np.int64(669639), np.int64(663500), np.int64(681938), np.int64(696275), np.int64(800723), np.int64(669668), np.int64(684007), np.int64(622569), np.int64(663531), np.int64(815084), np.int64(688107)}\n",
      "Values only in pitch_arsenal_df['player_id']: {np.int64(663556), np.int64(663558), np.int64(456713), np.int64(607755), np.int64(521230), np.int64(657424), np.int64(605200), np.int64(686610), np.int64(621074), np.int64(621076), np.int64(656382), np.int64(488984), np.int64(642585), np.int64(682010), np.int64(543272), np.int64(666154), np.int64(666168), np.int64(453178), np.int64(686651), np.int64(605242), np.int64(665665), np.int64(682051), np.int64(608328), np.int64(656970), np.int64(675916), np.int64(663629), np.int64(608337), np.int64(668754), np.int64(656981), np.int64(596057), np.int64(641627), np.int64(666721), np.int64(547943), np.int64(663658), np.int64(660593), np.int64(670329), np.int64(607359), np.int64(665734), np.int64(664199), np.int64(641672), np.int64(657031), np.int64(686218), np.int64(645261), np.int64(596112), np.int64(453268), np.int64(543901), np.int64(686753), np.int64(683175), np.int64(622772), np.int64(642231), np.int64(682171), np.int64(622780), np.int64(656061), np.int64(670912), np.int64(621249), np.int64(542914), np.int64(656578), np.int64(642758), np.int64(641743), np.int64(642770), np.int64(593619), np.int64(687830), np.int64(607968), np.int64(542947), np.int64(664294), np.int64(621295), np.int64(669424), np.int64(657140), np.int64(669947), np.int64(666364), np.int64(663804), np.int64(650496), np.int64(666374), np.int64(687888), np.int64(543507), np.int64(680723), np.int64(611093), np.int64(677651), np.int64(680735), np.int64(543521), np.int64(664353), np.int64(572193), np.int64(570666), np.int64(660271), np.int64(621368), np.int64(605498), np.int64(543548), np.int64(661309), np.int64(425794), np.int64(502083), np.int64(641871), np.int64(696147), np.int64(600921), np.int64(663385), np.int64(657756), np.int64(657248), np.int64(685410), np.int64(605540), np.int64(592229), np.int64(676206), np.int64(664942), np.int64(518516), np.int64(425844), np.int64(674681), np.int64(543101), np.int64(592254), np.int64(691587), np.int64(661383), np.int64(641420), np.int64(592789), np.int64(608665), np.int64(656290), np.int64(446372), np.int64(676265), np.int64(660906), np.int64(669105), np.int64(663986), np.int64(679346), np.int64(476595), np.int64(656818), np.int64(669618), np.int64(592826), np.int64(502202), np.int64(640444), np.int64(661440), np.int64(672715), np.int64(592848), np.int64(595411), np.int64(682967), np.int64(544727), np.int64(669145), np.int64(672730), np.int64(664028), np.int64(605151), np.int64(670183), np.int64(472551), np.int64(669160), np.int64(628711), np.int64(572403), np.int64(669684), np.int64(668665), np.int64(571901), np.int64(664062), np.int64(594943)}\n"
     ]
    }
   ],
   "source": [
    "# Get unique values from both columns\n",
    "pitchers_unique = set(data['pitcher'].unique())\n",
    "pitch_arsenal_unique = set(pitch_arsenal_df['player_id'].unique())\n",
    "big_df_unique = set(pd.read_csv('./data/final_final_encoded_savant_2024.csv')['pitcher'].unique())\n",
    "\n",
    "# Compare if they have the same elements\n",
    "same_contents = big_df_unique == pitch_arsenal_unique\n",
    "\n",
    "print(f\"Do they have the same unique values? {same_contents}\")\n",
    "\n",
    "# If you want to see what is different:\n",
    "only_in_pitchers = big_df_unique - pitch_arsenal_unique\n",
    "only_in_arsenal = pitch_arsenal_unique - big_df_unique\n",
    "\n",
    "print(f\"Values only in data['pitcher']: {only_in_pitchers}\")\n",
    "print(f\"Values only in pitch_arsenal_df['player_id']: {only_in_arsenal}\")\n"
   ]
  }
 ],
 "metadata": {
  "kernelspec": {
   "display_name": ".venv",
   "language": "python",
   "name": "python3"
  },
  "language_info": {
   "codemirror_mode": {
    "name": "ipython",
    "version": 3
   },
   "file_extension": ".py",
   "mimetype": "text/x-python",
   "name": "python",
   "nbconvert_exporter": "python",
   "pygments_lexer": "ipython3",
   "version": "3.9.6"
  }
 },
 "nbformat": 4,
 "nbformat_minor": 5
}
