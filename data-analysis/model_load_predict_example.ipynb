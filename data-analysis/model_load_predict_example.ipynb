{
 "cells": [
  {
   "cell_type": "code",
   "execution_count": 1,
   "id": "a2df26f3",
   "metadata": {},
   "outputs": [],
   "source": [
    "import pandas as pd\n",
    "import model\n",
    "import numpy as np"
   ]
  },
  {
   "cell_type": "code",
   "execution_count": 2,
   "id": "8850fe0d",
   "metadata": {},
   "outputs": [
    {
     "name": "stdout",
     "output_type": "stream",
     "text": [
      "True\n",
      "loading train_dataset from pickle\n",
      "loading val_dataset from pickle\n"
     ]
    }
   ],
   "source": [
    "import os\n",
    "hasDataSet = os.path.exists('./data/train_dataset.pkl')\n",
    "print(hasDataSet)\n",
    "train_dataset, val_dataset = model.load_training_data('./data/final_final_encoded_savant_2024.csv', hasDataSet=hasDataSet)"
   ]
  },
  {
   "cell_type": "code",
   "execution_count": 3,
   "id": "dd25591a",
   "metadata": {},
   "outputs": [
    {
     "name": "stdout",
     "output_type": "stream",
     "text": [
      "initting model architecture\n",
      "starting training loop\n",
      "Epoch 1, Train Loss: 0.8674, Val Loss: 0.8429\n",
      "Epoch 2, Train Loss: 0.8360, Val Loss: 0.8264\n",
      "Epoch 3, Train Loss: 0.8258, Val Loss: 0.8201\n",
      "Epoch 4, Train Loss: 0.8204, Val Loss: 0.8119\n",
      "Epoch 5, Train Loss: 0.8166, Val Loss: 0.8087\n",
      "Epoch 6, Train Loss: 0.8142, Val Loss: 0.8107\n",
      "Epoch 7, Train Loss: 0.8119, Val Loss: 0.8085\n",
      "Epoch 8, Train Loss: 0.8102, Val Loss: 0.8089\n",
      "Epoch 9, Train Loss: 0.8088, Val Loss: 0.8043\n",
      "Epoch 10, Train Loss: 0.8070, Val Loss: 0.8079\n",
      "Epoch 11, Train Loss: 0.8061, Val Loss: 0.8076\n",
      "Epoch 12, Train Loss: 0.8050, Val Loss: 0.8034\n",
      "Epoch 13, Train Loss: 0.8044, Val Loss: 0.8065\n",
      "Epoch 14, Train Loss: 0.8036, Val Loss: 0.8066\n",
      "Epoch 15, Train Loss: 0.8023, Val Loss: 0.8134\n",
      "Epoch 16, Train Loss: 0.8020, Val Loss: 0.8092\n",
      "Epoch 17, Train Loss: 0.8013, Val Loss: 0.8061\n",
      "Epoch 18, Train Loss: 0.8012, Val Loss: 0.8071\n",
      "Epoch 19, Train Loss: 0.8006, Val Loss: 0.8044\n",
      "Epoch 20, Train Loss: 0.7997, Val Loss: 0.8083\n",
      "Epoch 21, Train Loss: 0.7992, Val Loss: 0.8065\n",
      "Epoch 22, Train Loss: 0.7987, Val Loss: 0.8047\n",
      "Early stopping triggered after 22 epochs. Best Val Loss: 0.8034\n"
     ]
    }
   ],
   "source": [
    "lstm_mod = model.train_model(train_dataset, val_dataset)"
   ]
  },
  {
   "cell_type": "code",
   "execution_count": 6,
   "id": "e2170518",
   "metadata": {},
   "outputs": [],
   "source": [
    "df = pd.read_csv('./data/final_final_encoded_savant_2024.csv')"
   ]
  },
  {
   "cell_type": "code",
   "execution_count": 7,
   "id": "0f983ec5",
   "metadata": {},
   "outputs": [],
   "source": [
    "# List of memory features (copy from your model)\n",
    "memory_features = [\n",
    "    'release_speed', 'release_pos_y',\n",
    "    'pitch_type_group_BREAK', 'pitch_type_group_FAST', 'pitch_type_group_OFF',\n",
    "    'description_ball', 'description_blocked_ball', 'description_called_strike', 'description_foul', \n",
    "    'description_foul_bunt', 'description_foul_tip', 'description_hit_by_pitch', 'description_hit_into_play', \n",
    "    'description_pitchout', 'description_swinging_strike', 'description_swinging_strike_blocked', \n",
    "    'type_B', 'type_S', 'bb_type_fly_ball', 'bb_type_ground_ball', 'bb_type_line_drive', 'bb_type_popup', \n",
    "    'zone_1.0', 'zone_2.0', 'zone_3.0', 'zone_4.0', 'zone_5.0', 'zone_6.0', 'zone_7.0', 'zone_8.0', \n",
    "    'zone_9.0', 'zone_11.0', 'zone_12.0', 'zone_13.0', 'zone_14.0', 'zone_nan', 'hit_location_1.0', 'hit_location_2.0', \n",
    "    'hit_location_3.0', 'hit_location_4.0', 'hit_location_5.0', 'hit_location_6.0', 'hit_location_7.0', 'hit_location_8.0', \n",
    "    'hit_location_9.0', 'hit_location_nan'\n",
    "]\n",
    "\n",
    "# Number of previous pitches to mock\n",
    "num_prev_pitches = 5\n",
    "\n",
    "# Create random data for each feature\n",
    "mock_data = {}\n",
    "np.random.seed(42)  # For reproducibility\n",
    "\n",
    "# Example: assign plausible ranges for numeric features, 0/1 for one-hot/categorical\n",
    "for feature in memory_features:\n",
    "    if feature == 'release_speed':\n",
    "        mock_data[feature] = np.random.uniform(-0.75, 100, num_prev_pitches)  # plausible pitch speeds\n",
    "    elif feature == 'release_pos_y':\n",
    "        mock_data[feature] = np.random.uniform(-0.7, 0.85, num_prev_pitches)   # plausible y positions\n",
    "    else:\n",
    "        # For one-hot/categorical features, use 0 or 1\n",
    "        mock_data[feature] = np.random.randint(0, 2, num_prev_pitches).astype(float)\n",
    "\n",
    "mock_memory = pd.DataFrame(mock_data).to_numpy()\n",
    "context_features = [\n",
    "    'stand_R', 'p_throws_R', 'balls', 'strikes',\n",
    "    'on_3b', 'on_2b', 'on_1b', 'outs_when_up', 'inning', 'inning_topbot_Top', 'at_bat_number', 'pitch_number',\n",
    "    'home_score', 'away_score', 'bat_score', 'fld_score', 'n_thruorder_pitcher', 'n_priorpa_thisgame_player_at_bat',\n",
    "    'prev_runs_scored'\n",
    "]\n",
    "context = df.iloc[100][context_features].astype(float).values"
   ]
  },
  {
   "cell_type": "code",
   "execution_count": null,
   "id": "7272d4dc",
   "metadata": {},
   "outputs": [
    {
     "name": "stdout",
     "output_type": "stream",
     "text": [
      "pitcher_to_id\n",
      "batter_to_id\n",
      "pitch_type_to_idx\n",
      "lstm_init_args\n",
      "    context_dim\n",
      "    memory_dim\n",
      "    num_pitchers\n",
      "    num_batters\n",
      "    pitcher_embed_dim\n",
      "    batter_embed_dim\n",
      "    lstm_hidden_dim\n",
      "    num_pitch_types\n"
     ]
    }
   ],
   "source": [
    "import pickle\n",
    "\n",
    "# Load model config/specs\n",
    "with open(\"best_pitch_predictor_lstm_meta.pkl\", \"rb\") as f:\n",
    "    meta = pickle.load(f)\n",
    "\n",
    "for key in meta:\n",
    "    print(key)\n",
    "    if (key == 'lstm_init_args'):\n",
    "        for k in meta[key]:\n",
    "            print('   ', k)"
   ]
  },
  {
   "cell_type": "code",
   "execution_count": null,
   "id": "439453fa",
   "metadata": {},
   "outputs": [
    {
     "data": {
      "text/plain": [
       "PitchPredictorLSTM(\n",
       "  (pitcher_embedding): Embedding(974, 32)\n",
       "  (batter_embedding): Embedding(971, 32)\n",
       "  (lstm): LSTM(46, 128, num_layers=2, batch_first=True, dropout=0.2)\n",
       "  (context_fc): Sequential(\n",
       "    (0): Linear(in_features=83, out_features=128, bias=True)\n",
       "    (1): ReLU()\n",
       "    (2): Dropout(p=0.3, inplace=False)\n",
       "    (3): Linear(in_features=128, out_features=64, bias=True)\n",
       "  )\n",
       "  (combined_fc): Sequential(\n",
       "    (0): Linear(in_features=192, out_features=128, bias=True)\n",
       "    (1): ReLU()\n",
       "    (2): Dropout(p=0.3, inplace=False)\n",
       "    (3): Linear(in_features=128, out_features=64, bias=True)\n",
       "    (4): ReLU()\n",
       "    (5): Linear(in_features=64, out_features=4, bias=True)\n",
       "  )\n",
       ")"
      ]
     },
     "execution_count": 12,
     "metadata": {},
     "output_type": "execute_result"
    }
   ],
   "source": [
    "import pickle\n",
    "import torch\n",
    "import model\n",
    "\n",
    "# Load model config/specs\n",
    "with open(\"best_pitch_predictor_lstm_meta.pkl\", \"rb\") as f:\n",
    "    meta = pickle.load(f)\n",
    "\n",
    "# Instantiate the model using the loaded specs\n",
    "loaded_mod = model.PitchPredictorLSTM(\n",
    "    context_dim=meta[\"lstm_init_args\"]['context_dim'],\n",
    "    memory_dim=meta[\"lstm_init_args\"]['memory_dim'],\n",
    "    num_pitchers=len(meta[\"pitcher_to_id\"]),\n",
    "    num_batters=len(meta[\"batter_to_id\"]),\n",
    "    pitcher_embed_dim=32,\n",
    "    batter_embed_dim=32,\n",
    "    lstm_hidden_dim=128,\n",
    "    num_pitch_types=4\n",
    ")\n",
    "\n",
    "# Load the trained weights\n",
    "loaded_mod.load_state_dict(torch.load(\"./models/best_pitch_predictor_lstm.pth\", map_location=\"cpu\"))\n",
    "loaded_mod.eval()\n"
   ]
  },
  {
   "cell_type": "code",
   "execution_count": null,
   "id": "bb09d10d",
   "metadata": {},
   "outputs": [
    {
     "data": {
      "text/plain": [
       "PitchPredictorLSTM(\n",
       "  (pitcher_embedding): Embedding(974, 32)\n",
       "  (batter_embedding): Embedding(965, 32)\n",
       "  (lstm): LSTM(46, 128, num_layers=2, batch_first=True, dropout=0.2)\n",
       "  (context_fc): Sequential(\n",
       "    (0): Linear(in_features=83, out_features=128, bias=True)\n",
       "    (1): ReLU()\n",
       "    (2): Dropout(p=0.3, inplace=False)\n",
       "    (3): Linear(in_features=128, out_features=64, bias=True)\n",
       "  )\n",
       "  (combined_fc): Sequential(\n",
       "    (0): Linear(in_features=192, out_features=128, bias=True)\n",
       "    (1): ReLU()\n",
       "    (2): Dropout(p=0.3, inplace=False)\n",
       "    (3): Linear(in_features=128, out_features=64, bias=True)\n",
       "    (4): ReLU()\n",
       "    (5): Linear(in_features=64, out_features=4, bias=True)\n",
       "  )\n",
       ")"
      ]
     },
     "execution_count": 4,
     "metadata": {},
     "output_type": "execute_result"
    }
   ],
   "source": [
    "# import torch\n",
    "\n",
    "# # Load the model architecture\n",
    "# lstm_mod = model.PitchPredictorLSTM(\n",
    "#     context_dim=len(context_features),\n",
    "#     memory_dim=len(memory_features),\n",
    "#     num_pitchers=len(df['pitcher'].unique()),\n",
    "#     num_batters=965, #len(df['batter'].unique()),\n",
    "#     pitcher_embed_dim=32,\n",
    "#     batter_embed_dim=32,\n",
    "#     lstm_hidden_dim=128,\n",
    "#     num_pitch_types=4\n",
    "# )\n",
    "\n",
    "# # Load the trained weights\n",
    "# lstm_mod.load_state_dict(torch.load('best_pitch_predictor_lstm.pth', map_location='cpu'))\n",
    "# lstm_mod.eval()\n"
   ]
  },
  {
   "cell_type": "code",
   "execution_count": 66,
   "id": "3d2380f5",
   "metadata": {},
   "outputs": [],
   "source": [
    "probs = model.predict_next_pitch(loaded_mod, current_context=context, pitcher_id=[meta[\"pitcher_to_id\"][506433]], \n",
    "                         batter_id=[meta[\"batter_to_id\"][518595]], previous_pitches_in_pa=mock_memory)\n"
   ]
  },
  {
   "cell_type": "code",
   "execution_count": 69,
   "id": "d187319d",
   "metadata": {},
   "outputs": [
    {
     "data": {
      "text/plain": [
       "array([[4.34315294e-01, 1.09427735e-01, 4.56111133e-01, 1.45819620e-04]],\n",
       "      dtype=float32)"
      ]
     },
     "execution_count": 69,
     "metadata": {},
     "output_type": "execute_result"
    }
   ],
   "source": [
    "probs"
   ]
  },
  {
   "cell_type": "code",
   "execution_count": 70,
   "id": "eea45f03",
   "metadata": {},
   "outputs": [
    {
     "data": {
      "text/plain": [
       "{'FAST': 0.4343152940273285,\n",
       " 'OFF': 0.10942773520946503,\n",
       " 'BREAK': 0.4561111330986023,\n",
       " 'OTH': 0.00014581962022930384}"
      ]
     },
     "execution_count": 70,
     "metadata": {},
     "output_type": "execute_result"
    }
   ],
   "source": [
    "meta['pitch_type_to_idx']\n",
    "# Map the predicted probabilities to pitch type names using meta['pitch_type_to_idx']\n",
    "# We'll invert the dict to get idx -> pitch_type\n",
    "idx_to_pitch_type = {v: k for k, v in meta['pitch_type_to_idx'].items()}\n",
    "pitch_probs = {idx_to_pitch_type[i]: float(probs[0, i]) for i in range(probs.shape[1])}\n",
    "pitch_probs\n"
   ]
  },
  {
   "cell_type": "code",
   "execution_count": null,
   "id": "335a1d9a",
   "metadata": {},
   "outputs": [
    {
     "name": "stdout",
     "output_type": "stream",
     "text": [
      "initting model architecture\n",
      "starting training loop\n",
      "Epoch 1, Train Loss: 0.8674, Val Loss: 0.8429\n",
      "Epoch 2, Train Loss: 0.8360, Val Loss: 0.8264\n",
      "Epoch 3, Train Loss: 0.8258, Val Loss: 0.8201\n",
      "Epoch 4, Train Loss: 0.8204, Val Loss: 0.8119\n",
      "Epoch 5, Train Loss: 0.8166, Val Loss: 0.8087\n",
      "Epoch 6, Train Loss: 0.8142, Val Loss: 0.8107\n",
      "Epoch 7, Train Loss: 0.8119, Val Loss: 0.8085\n",
      "Epoch 8, Train Loss: 0.8102, Val Loss: 0.8089\n",
      "Epoch 9, Train Loss: 0.8088, Val Loss: 0.8043\n",
      "Epoch 10, Train Loss: 0.8070, Val Loss: 0.8079\n",
      "Epoch 11, Train Loss: 0.8061, Val Loss: 0.8076\n",
      "Epoch 12, Train Loss: 0.8050, Val Loss: 0.8034\n",
      "Epoch 13, Train Loss: 0.8044, Val Loss: 0.8065\n",
      "Epoch 14, Train Loss: 0.8036, Val Loss: 0.8066\n",
      "Epoch 15, Train Loss: 0.8023, Val Loss: 0.8134\n",
      "Epoch 16, Train Loss: 0.8020, Val Loss: 0.8092\n",
      "Epoch 17, Train Loss: 0.8013, Val Loss: 0.8061\n",
      "Epoch 18, Train Loss: 0.8012, Val Loss: 0.8071\n",
      "Epoch 19, Train Loss: 0.8006, Val Loss: 0.8044\n",
      "Epoch 20, Train Loss: 0.7997, Val Loss: 0.8083\n",
      "Epoch 21, Train Loss: 0.7992, Val Loss: 0.8065\n",
      "Epoch 22, Train Loss: 0.7987, Val Loss: 0.8047\n",
      "Early stopping triggered after 22 epochs. Best Val Loss: 0.8034\n"
     ]
    }
   ],
   "source": [
    "lstm_mod = model.train_model(train_dataset, val_dataset)"
   ]
  },
  {
   "cell_type": "code",
   "execution_count": null,
   "id": "6770d010",
   "metadata": {},
   "outputs": [],
   "source": [
    "import torch\n",
    "\n",
    "# Load the model architecture\n",
    "mock_lstm_mod = model.PitchPredictorLSTM(\n",
    "    context_dim=len(context_features),\n",
    "    memory_dim=len(memory_features),\n",
    "    num_pitchers=len(df['pitcher'].unique()),\n",
    "    num_batters=965, #len(df['batter'].unique()),\n",
    "    pitcher_embed_dim=32,\n",
    "    batter_embed_dim=32,\n",
    "    lstm_hidden_dim=128,\n",
    "    num_pitch_types=4\n",
    ")\n",
    "\n",
    "# Load the trained weights\n",
    "mock_lstm_mod.load_state_dict(torch.load('best_pitch_predictor_lstm.pth', map_location='cpu'))\n",
    "mock_lstm_mod.eval()"
   ]
  }
 ],
 "metadata": {
  "kernelspec": {
   "display_name": ".venv",
   "language": "python",
   "name": "python3"
  },
  "language_info": {
   "codemirror_mode": {
    "name": "ipython",
    "version": 3
   },
   "file_extension": ".py",
   "mimetype": "text/x-python",
   "name": "python",
   "nbconvert_exporter": "python",
   "pygments_lexer": "ipython3",
   "version": "3.9.6"
  }
 },
 "nbformat": 4,
 "nbformat_minor": 5
}
